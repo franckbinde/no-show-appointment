{
 "cells": [
  {
   "cell_type": "markdown",
   "metadata": {
    "slideshow": {
     "slide_type": "slide"
    }
   },
   "source": [
    "\n",
    "# Projet:  Rendez-vous d'Hopitaux Manqués \n",
    "\n",
    "<i>Auteur: Franck Alain Binde Koube</i>\n",
    "\n",
    "### Base de données utilisée: Database_No_show_appointments\n",
    "\n",
    "## Table des matières\n",
    "<ul>\n",
    "<li><a href=\"#intro\">I - Introduction</a></li>\n",
    "<li><a href=\"#wrangling\">II - Data Wrangling</a></li>\n",
    "<li><a href=\"#eda\">III - Analyse exploratoire des données</a></li>\n",
    "<li><a href=\"#conclusions\">IV - Conclusions</a></li>\n",
    "</ul>"
   ]
  },
  {
   "cell_type": "markdown",
   "metadata": {
    "slideshow": {
     "slide_type": "slide"
    }
   },
   "source": [
    "<a id='intro'></a>\n",
    "## I - Introduction\n",
    "\n",
    "Dans ce projet, nous analyserons les données concernant des rendez-vous de patients dans des centres hospitaliers au Brésil. \n",
    "\n",
    "Chaque observation (ou ligne) nous donne les détails sur un rendez-vous en particulier. Pour chaque rendez-vous, des atributs spécifiques sont répertoriés. \n",
    "\n",
    "Les différentes colonnes présentes dans la table de données sont:\n",
    "<ul>\n",
    "    <li><b>PatientId</b>: Identifiant unique du patient</li>\n",
    "    <li><b>AppointmentID</b>: Identifiant unique du rendez-vous</li>\n",
    "    <li><b>Gender</b>: Sexe du patient</li>\n",
    "    <li><b>ScheduledDay</b>: Jour et heure du rendez-vous</li>\n",
    "    <li><b>AppointmentDay</b>: Jour du rendez-vous</li>\n",
    "    <li><b>Age</b>: Age du patient</li>\n",
    "    <li><b>Neighbourhood</b>: Localisation du centre hospitalier</li>\n",
    "    <li><b>Scholarship</b>: Indique si le patient est inscrit au programme d'aide sociale brésilienne Bolsa Familia.</li>\n",
    "    <li><b>Hipertension</b>: Indique si le patient est atteint d'hypertension</li>\n",
    "    <li><b>Diabetes</b>: Indique si le patient est atteint de diabete</li>\n",
    "    <li><b>Alcoholism</b>: Indique si le patient est atteint d'alcoolisme</li>\n",
    "    <li><b>Handcap</b>: Indique si le patient souffre d'un handicap</li>\n",
    "    <li><b>SMS_received</b>: Indique si le patient a reçu un ou plusieurs messages</li>\n",
    "    <li><b>No-show</b>: Indique si le patient s'est présenté au rendez-vous</li>  \n",
    "</ul>\n",
    "Vous pouvez consulter la source de ces données <a href=\"https://www.kaggle.com/joniarroba/noshowappointments\" target=\"_blank\">ici</a>.\n",
    "\n",
    "<img src=\"https://images.unsplash.com/photo-1536064479547-7ee40b74b807?ixlib=rb-1.2.1&ixid=MnwxMjA3fDB8MHxwaG90by1wYWdlfHx8fGVufDB8fHx8&auto=format&fit=crop&w=1170&q=80\" width=\"500\"/>\n",
    "\n",
    "Une telle base de données soulève quelques questions.\n",
    "<ol>\n",
    "    <li>Comment est la distribution de l'âge des patients?</li>\n",
    "    <li>Les patients d'un certain âge manquent t-ils plus leur rendez-vous ?</li>\n",
    "    <li>Quelles sont les localisations où les proportions de rendez-vous manqués sont les plus élevées?</li>\n",
    "    <li>Y a-t-il des jours de la semaine où les rendez-vous sont le plus manqués ?</li>\n",
    "    <li>Qu’en est-il des heures de rendez-vous ?</li>\n",
    "    <li>Les patients qui ont reçu des messages viennent t-ils plus à leur rendez-vous?</li>\n",
    "</ol> "
   ]
  },
  {
   "cell_type": "code",
   "execution_count": 1,
   "metadata": {
    "slideshow": {
     "slide_type": "slide"
    }
   },
   "outputs": [],
   "source": [
    "# Importons les librairies dont nous avons besoin\n",
    "\n",
    "import pandas as pd\n",
    "import numpy as np \n",
    "import matplotlib.pyplot as plt\n",
    "import seaborn as sns\n",
    "sns.set_theme()\n",
    "\n",
    "%matplotlib inline"
   ]
  },
  {
   "cell_type": "markdown",
   "metadata": {
    "slideshow": {
     "slide_type": "slide"
    }
   },
   "source": [
    "<a id='wrangling'></a>\n",
    "## II - Data Wrangling\n",
    "\n",
    "\n",
    "### Propriétés Générales \n",
    "Nous allons télécharger nos données et les nettoyer. Cette première étape consiste à assainir nos données pour pouvoir faciliter notre analyse. Ainsi, nous pourrons :\n",
    "- Supprimer les doublons (s'il y'en a)\n",
    "- Traiter les valeur manquantes (s'il y en a)\n",
    "- Modifier le type de données de certaines colonnes\n",
    "- Modifier certains noms de colonnes\n",
    "- Créer de nouvelles colonnes"
   ]
  },
  {
   "cell_type": "code",
   "execution_count": 2,
   "metadata": {
    "scrolled": false,
    "slideshow": {
     "slide_type": "slide"
    }
   },
   "outputs": [
    {
     "data": {
      "text/html": [
       "<div>\n",
       "<style scoped>\n",
       "    .dataframe tbody tr th:only-of-type {\n",
       "        vertical-align: middle;\n",
       "    }\n",
       "\n",
       "    .dataframe tbody tr th {\n",
       "        vertical-align: top;\n",
       "    }\n",
       "\n",
       "    .dataframe thead th {\n",
       "        text-align: right;\n",
       "    }\n",
       "</style>\n",
       "<table border=\"1\" class=\"dataframe\">\n",
       "  <thead>\n",
       "    <tr style=\"text-align: right;\">\n",
       "      <th></th>\n",
       "      <th>PatientId</th>\n",
       "      <th>AppointmentID</th>\n",
       "      <th>Gender</th>\n",
       "      <th>ScheduledDay</th>\n",
       "      <th>AppointmentDay</th>\n",
       "      <th>Age</th>\n",
       "      <th>Neighbourhood</th>\n",
       "      <th>Scholarship</th>\n",
       "      <th>Hipertension</th>\n",
       "      <th>Diabetes</th>\n",
       "      <th>Alcoholism</th>\n",
       "      <th>Handcap</th>\n",
       "      <th>SMS_received</th>\n",
       "      <th>No-show</th>\n",
       "    </tr>\n",
       "  </thead>\n",
       "  <tbody>\n",
       "    <tr>\n",
       "      <th>0</th>\n",
       "      <td>2.987250e+13</td>\n",
       "      <td>5642903</td>\n",
       "      <td>F</td>\n",
       "      <td>2016-04-29T18:38:08Z</td>\n",
       "      <td>2016-04-29T00:00:00Z</td>\n",
       "      <td>62</td>\n",
       "      <td>JARDIM DA PENHA</td>\n",
       "      <td>0</td>\n",
       "      <td>1</td>\n",
       "      <td>0</td>\n",
       "      <td>0</td>\n",
       "      <td>0</td>\n",
       "      <td>0</td>\n",
       "      <td>No</td>\n",
       "    </tr>\n",
       "    <tr>\n",
       "      <th>1</th>\n",
       "      <td>5.589978e+14</td>\n",
       "      <td>5642503</td>\n",
       "      <td>M</td>\n",
       "      <td>2016-04-29T16:08:27Z</td>\n",
       "      <td>2016-04-29T00:00:00Z</td>\n",
       "      <td>56</td>\n",
       "      <td>JARDIM DA PENHA</td>\n",
       "      <td>0</td>\n",
       "      <td>0</td>\n",
       "      <td>0</td>\n",
       "      <td>0</td>\n",
       "      <td>0</td>\n",
       "      <td>0</td>\n",
       "      <td>No</td>\n",
       "    </tr>\n",
       "    <tr>\n",
       "      <th>2</th>\n",
       "      <td>4.262962e+12</td>\n",
       "      <td>5642549</td>\n",
       "      <td>F</td>\n",
       "      <td>2016-04-29T16:19:04Z</td>\n",
       "      <td>2016-04-29T00:00:00Z</td>\n",
       "      <td>62</td>\n",
       "      <td>MATA DA PRAIA</td>\n",
       "      <td>0</td>\n",
       "      <td>0</td>\n",
       "      <td>0</td>\n",
       "      <td>0</td>\n",
       "      <td>0</td>\n",
       "      <td>0</td>\n",
       "      <td>No</td>\n",
       "    </tr>\n",
       "    <tr>\n",
       "      <th>3</th>\n",
       "      <td>8.679512e+11</td>\n",
       "      <td>5642828</td>\n",
       "      <td>F</td>\n",
       "      <td>2016-04-29T17:29:31Z</td>\n",
       "      <td>2016-04-29T00:00:00Z</td>\n",
       "      <td>8</td>\n",
       "      <td>PONTAL DE CAMBURI</td>\n",
       "      <td>0</td>\n",
       "      <td>0</td>\n",
       "      <td>0</td>\n",
       "      <td>0</td>\n",
       "      <td>0</td>\n",
       "      <td>0</td>\n",
       "      <td>No</td>\n",
       "    </tr>\n",
       "    <tr>\n",
       "      <th>4</th>\n",
       "      <td>8.841186e+12</td>\n",
       "      <td>5642494</td>\n",
       "      <td>F</td>\n",
       "      <td>2016-04-29T16:07:23Z</td>\n",
       "      <td>2016-04-29T00:00:00Z</td>\n",
       "      <td>56</td>\n",
       "      <td>JARDIM DA PENHA</td>\n",
       "      <td>0</td>\n",
       "      <td>1</td>\n",
       "      <td>1</td>\n",
       "      <td>0</td>\n",
       "      <td>0</td>\n",
       "      <td>0</td>\n",
       "      <td>No</td>\n",
       "    </tr>\n",
       "  </tbody>\n",
       "</table>\n",
       "</div>"
      ],
      "text/plain": [
       "      PatientId  AppointmentID Gender          ScheduledDay  \\\n",
       "0  2.987250e+13        5642903      F  2016-04-29T18:38:08Z   \n",
       "1  5.589978e+14        5642503      M  2016-04-29T16:08:27Z   \n",
       "2  4.262962e+12        5642549      F  2016-04-29T16:19:04Z   \n",
       "3  8.679512e+11        5642828      F  2016-04-29T17:29:31Z   \n",
       "4  8.841186e+12        5642494      F  2016-04-29T16:07:23Z   \n",
       "\n",
       "         AppointmentDay  Age      Neighbourhood  Scholarship  Hipertension  \\\n",
       "0  2016-04-29T00:00:00Z   62    JARDIM DA PENHA            0             1   \n",
       "1  2016-04-29T00:00:00Z   56    JARDIM DA PENHA            0             0   \n",
       "2  2016-04-29T00:00:00Z   62      MATA DA PRAIA            0             0   \n",
       "3  2016-04-29T00:00:00Z    8  PONTAL DE CAMBURI            0             0   \n",
       "4  2016-04-29T00:00:00Z   56    JARDIM DA PENHA            0             1   \n",
       "\n",
       "   Diabetes  Alcoholism  Handcap  SMS_received No-show  \n",
       "0         0           0        0             0      No  \n",
       "1         0           0        0             0      No  \n",
       "2         0           0        0             0      No  \n",
       "3         0           0        0             0      No  \n",
       "4         1           0        0             0      No  "
      ]
     },
     "execution_count": 2,
     "metadata": {},
     "output_type": "execute_result"
    }
   ],
   "source": [
    "# importons notre table de données, et explorons la.\n",
    "df = pd.read_csv('noshowappointments-may-2016.csv')\n",
    "df.head()"
   ]
  },
  {
   "cell_type": "markdown",
   "metadata": {
    "slideshow": {
     "slide_type": "slide"
    }
   },
   "source": [
    "<b>Déterminons la dimension de notre table de données</b> 🢃"
   ]
  },
  {
   "cell_type": "code",
   "execution_count": 3,
   "metadata": {
    "slideshow": {
     "slide_type": "subslide"
    }
   },
   "outputs": [
    {
     "data": {
      "text/plain": [
       "(110527, 14)"
      ]
     },
     "execution_count": 3,
     "metadata": {},
     "output_type": "execute_result"
    }
   ],
   "source": [
    "df.shape"
   ]
  },
  {
   "cell_type": "markdown",
   "metadata": {
    "slideshow": {
     "slide_type": "subslide"
    }
   },
   "source": [
    "Nombre de lignes: <b>110527</b><br />\n",
    "Nombre de colonnes: <b>14</b>"
   ]
  },
  {
   "cell_type": "markdown",
   "metadata": {
    "slideshow": {
     "slide_type": "slide"
    }
   },
   "source": [
    "Vérifions s'il y a des doublons."
   ]
  },
  {
   "cell_type": "code",
   "execution_count": 4,
   "metadata": {
    "slideshow": {
     "slide_type": "subslide"
    }
   },
   "outputs": [
    {
     "name": "stdout",
     "output_type": "stream",
     "text": [
      "Nombre de doublons:\n",
      "0\n"
     ]
    }
   ],
   "source": [
    "print(\"Nombre de doublons:\")\n",
    "print(df.duplicated().sum())"
   ]
  },
  {
   "cell_type": "markdown",
   "metadata": {
    "slideshow": {
     "slide_type": "subslide"
    }
   },
   "source": [
    "Notre tableau de données ne contient pas de doublons. Continuons notre inspection"
   ]
  },
  {
   "cell_type": "markdown",
   "metadata": {
    "slideshow": {
     "slide_type": "slide"
    }
   },
   "source": [
    "<b>Inspectons les colonnes</b> 🢃"
   ]
  },
  {
   "cell_type": "code",
   "execution_count": 5,
   "metadata": {
    "scrolled": true,
    "slideshow": {
     "slide_type": "slide"
    }
   },
   "outputs": [
    {
     "name": "stdout",
     "output_type": "stream",
     "text": [
      "<class 'pandas.core.frame.DataFrame'>\n",
      "RangeIndex: 110527 entries, 0 to 110526\n",
      "Data columns (total 14 columns):\n",
      " #   Column          Non-Null Count   Dtype  \n",
      "---  ------          --------------   -----  \n",
      " 0   PatientId       110527 non-null  float64\n",
      " 1   AppointmentID   110527 non-null  int64  \n",
      " 2   Gender          110527 non-null  object \n",
      " 3   ScheduledDay    110527 non-null  object \n",
      " 4   AppointmentDay  110527 non-null  object \n",
      " 5   Age             110527 non-null  int64  \n",
      " 6   Neighbourhood   110527 non-null  object \n",
      " 7   Scholarship     110527 non-null  int64  \n",
      " 8   Hipertension    110527 non-null  int64  \n",
      " 9   Diabetes        110527 non-null  int64  \n",
      " 10  Alcoholism      110527 non-null  int64  \n",
      " 11  Handcap         110527 non-null  int64  \n",
      " 12  SMS_received    110527 non-null  int64  \n",
      " 13  No-show         110527 non-null  object \n",
      "dtypes: float64(1), int64(8), object(5)\n",
      "memory usage: 11.8+ MB\n"
     ]
    }
   ],
   "source": [
    "df.info()"
   ]
  },
  {
   "cell_type": "markdown",
   "metadata": {
    "slideshow": {
     "slide_type": "slide"
    }
   },
   "source": [
    "<h3>Quelques observations</h3>\n",
    "<p>▶ Il n'y <b>aucune valeur manquante</b> dans nos données.</p>\n",
    "<p>▶ Les colonnes <i>PatientId</i> et <i>AppointmentID</i> sont de types numérique. Vu qu'aucun calcul statistique ne se fera sur ces valeurs, nous les convertirons en type string (objet sur pandas)</p>\n",
    "<p>▶ Les colonnes <i>ScheduledDay</i> et <i>AppointmentDay</i> sont de type objet. Nous les convertirons en type date pour pouvoir mieux les manipuler.</p>"
   ]
  },
  {
   "cell_type": "markdown",
   "metadata": {
    "slideshow": {
     "slide_type": "slide"
    }
   },
   "source": [
    "### Modification du type de données des colonnes"
   ]
  },
  {
   "cell_type": "code",
   "execution_count": 6,
   "metadata": {
    "slideshow": {
     "slide_type": "slide"
    }
   },
   "outputs": [],
   "source": [
    "# Création de la fontion qui permettra de modifier le type de données des colonnes\n",
    "\n",
    "def change_col_type(col):\n",
    "    if df[col].dtype in ['int64', 'float64']:\n",
    "        df[col] = df[col].astype(str)\n",
    "    elif df[col].dtype == 'object':\n",
    "        df[col] = pd.to_datetime(df[col])"
   ]
  },
  {
   "cell_type": "code",
   "execution_count": 7,
   "metadata": {
    "scrolled": true,
    "slideshow": {
     "slide_type": "slide"
    }
   },
   "outputs": [],
   "source": [
    "# Modification du type de données des colonnes\n",
    "\n",
    "cols = ['PatientId', 'AppointmentID', 'ScheduledDay', 'AppointmentDay']\n",
    "for col in cols:\n",
    "    change_col_type(col)"
   ]
  },
  {
   "cell_type": "code",
   "execution_count": 8,
   "metadata": {
    "scrolled": false,
    "slideshow": {
     "slide_type": "slide"
    }
   },
   "outputs": [
    {
     "name": "stdout",
     "output_type": "stream",
     "text": [
      "<class 'pandas.core.frame.DataFrame'>\n",
      "RangeIndex: 110527 entries, 0 to 110526\n",
      "Data columns (total 14 columns):\n",
      " #   Column          Non-Null Count   Dtype              \n",
      "---  ------          --------------   -----              \n",
      " 0   PatientId       110527 non-null  object             \n",
      " 1   AppointmentID   110527 non-null  object             \n",
      " 2   Gender          110527 non-null  object             \n",
      " 3   ScheduledDay    110527 non-null  datetime64[ns, UTC]\n",
      " 4   AppointmentDay  110527 non-null  datetime64[ns, UTC]\n",
      " 5   Age             110527 non-null  int64              \n",
      " 6   Neighbourhood   110527 non-null  object             \n",
      " 7   Scholarship     110527 non-null  int64              \n",
      " 8   Hipertension    110527 non-null  int64              \n",
      " 9   Diabetes        110527 non-null  int64              \n",
      " 10  Alcoholism      110527 non-null  int64              \n",
      " 11  Handcap         110527 non-null  int64              \n",
      " 12  SMS_received    110527 non-null  int64              \n",
      " 13  No-show         110527 non-null  object             \n",
      "dtypes: datetime64[ns, UTC](2), int64(7), object(5)\n",
      "memory usage: 11.8+ MB\n"
     ]
    }
   ],
   "source": [
    "# Vérifions que nos modifications ont bien fonctionné\n",
    "df.info()"
   ]
  },
  {
   "cell_type": "markdown",
   "metadata": {
    "slideshow": {
     "slide_type": "slide"
    }
   },
   "source": [
    "La modification a fonctionné. <i>PatientId</i> et <i>AppointmentID</i> sont maintenant de type objet. <i>ScheduledDay</i> et <i>AppointmentDay</i> sont de type date. Nous avons donc les types de données souhaités."
   ]
  },
  {
   "cell_type": "code",
   "execution_count": 9,
   "metadata": {
    "slideshow": {
     "slide_type": "slide"
    }
   },
   "outputs": [
    {
     "data": {
      "text/plain": [
       "array(['No', 'Yes'], dtype=object)"
      ]
     },
     "execution_count": 9,
     "metadata": {},
     "output_type": "execute_result"
    }
   ],
   "source": [
    "# Inspectons la colonne No-show\n",
    "df['No-show'].unique()"
   ]
  },
  {
   "cell_type": "markdown",
   "metadata": {
    "slideshow": {
     "slide_type": "slide"
    }
   },
   "source": [
    "> La colonne <i>No-show</i> contient deux valeurs: \"Yes\" et \"No\". La valeur \"Yes\" signifie qu'un patient a manqué son rendez-vous.<br />\n",
    "<b>No-show = \"Yes\"</b>: Rendez-vous manqué<br />\n",
    "<b>No-show = \"No\"</b>: Rendez-vous honoré\n",
    "\n",
    "> Cette colonne est binaire (Yes - No). Pour gagner en temps et bénéficier de la puissance des fonctions numériques de numpy et pandas, nous convertirons cette colonne en colonne numérique. Pour ce faire, nous remplacerons d'abord les valeurs \"Yes\" par \"1\", et \"No\" par 0."
   ]
  },
  {
   "cell_type": "code",
   "execution_count": 10,
   "metadata": {
    "slideshow": {
     "slide_type": "slide"
    }
   },
   "outputs": [
    {
     "data": {
      "text/plain": [
       "0    88208\n",
       "1    22319\n",
       "Name: No-show, dtype: int64"
      ]
     },
     "execution_count": 10,
     "metadata": {},
     "output_type": "execute_result"
    }
   ],
   "source": [
    "# Remplacement des valeurs\n",
    "\n",
    "df['No-show'] = np.where(df['No-show'] == \"Yes\", 1, 0)\n",
    "df['No-show'].value_counts()"
   ]
  },
  {
   "cell_type": "code",
   "execution_count": 11,
   "metadata": {
    "slideshow": {
     "slide_type": "slide"
    }
   },
   "outputs": [
    {
     "data": {
      "text/plain": [
       "dtype('int32')"
      ]
     },
     "execution_count": 11,
     "metadata": {},
     "output_type": "execute_result"
    }
   ],
   "source": [
    "# Modification du type de données\n",
    "df['No-show'] = df['No-show'].astype(int)\n",
    "df['No-show'].dtypes"
   ]
  },
  {
   "cell_type": "markdown",
   "metadata": {
    "slideshow": {
     "slide_type": "slide"
    }
   },
   "source": [
    "> <b>La colonne <i>No-show</i> ne contient maintenant que soit des 1, soit des 0. Elle est de type entier.</b>\n",
    "\n",
    "> Remarque: Certaines fonctions de pandas (telles que **query**) n'autorisent pas des noms de colonnes qui contiennent des tirets(-). Nous allons donc modifier le nom de la colonne **No-show** par **No_show**"
   ]
  },
  {
   "cell_type": "markdown",
   "metadata": {
    "slideshow": {
     "slide_type": "slide"
    }
   },
   "source": [
    "### Modification du nom de colonne"
   ]
  },
  {
   "cell_type": "code",
   "execution_count": 12,
   "metadata": {
    "slideshow": {
     "slide_type": "slide"
    }
   },
   "outputs": [
    {
     "data": {
      "text/plain": [
       "Index(['PatientId', 'AppointmentID', 'Gender', 'ScheduledDay',\n",
       "       'AppointmentDay', 'Age', 'Neighbourhood', 'Scholarship', 'Hipertension',\n",
       "       'Diabetes', 'Alcoholism', 'Handcap', 'SMS_received', 'No_show'],\n",
       "      dtype='object')"
      ]
     },
     "execution_count": 12,
     "metadata": {},
     "output_type": "execute_result"
    }
   ],
   "source": [
    "df.rename(columns={'No-show': 'No_show'}, inplace=True)\n",
    "# Vérifions que tout s'est bien passé\n",
    "df.columns"
   ]
  },
  {
   "cell_type": "markdown",
   "metadata": {
    "slideshow": {
     "slide_type": "slide"
    }
   },
   "source": [
    "### Statistiques de base\n",
    "Maintenant que nos colonnes ont des types appropriés, nous pouvons inspecter quelques statistiques de base sur les valeurs numériques. "
   ]
  },
  {
   "cell_type": "code",
   "execution_count": 13,
   "metadata": {
    "scrolled": true,
    "slideshow": {
     "slide_type": "slide"
    }
   },
   "outputs": [
    {
     "name": "stdout",
     "output_type": "stream",
     "text": [
      "Tableau statistique:\n"
     ]
    },
    {
     "data": {
      "text/html": [
       "<div>\n",
       "<style scoped>\n",
       "    .dataframe tbody tr th:only-of-type {\n",
       "        vertical-align: middle;\n",
       "    }\n",
       "\n",
       "    .dataframe tbody tr th {\n",
       "        vertical-align: top;\n",
       "    }\n",
       "\n",
       "    .dataframe thead th {\n",
       "        text-align: right;\n",
       "    }\n",
       "</style>\n",
       "<table border=\"1\" class=\"dataframe\">\n",
       "  <thead>\n",
       "    <tr style=\"text-align: right;\">\n",
       "      <th></th>\n",
       "      <th>Age</th>\n",
       "      <th>Scholarship</th>\n",
       "      <th>Hipertension</th>\n",
       "      <th>Diabetes</th>\n",
       "      <th>Alcoholism</th>\n",
       "      <th>Handcap</th>\n",
       "      <th>SMS_received</th>\n",
       "      <th>No_show</th>\n",
       "    </tr>\n",
       "  </thead>\n",
       "  <tbody>\n",
       "    <tr>\n",
       "      <th>count</th>\n",
       "      <td>110527.000000</td>\n",
       "      <td>110527.000000</td>\n",
       "      <td>110527.000000</td>\n",
       "      <td>110527.000000</td>\n",
       "      <td>110527.000000</td>\n",
       "      <td>110527.000000</td>\n",
       "      <td>110527.000000</td>\n",
       "      <td>110527.000000</td>\n",
       "    </tr>\n",
       "    <tr>\n",
       "      <th>mean</th>\n",
       "      <td>37.088874</td>\n",
       "      <td>0.098266</td>\n",
       "      <td>0.197246</td>\n",
       "      <td>0.071865</td>\n",
       "      <td>0.030400</td>\n",
       "      <td>0.022248</td>\n",
       "      <td>0.321026</td>\n",
       "      <td>0.201933</td>\n",
       "    </tr>\n",
       "    <tr>\n",
       "      <th>std</th>\n",
       "      <td>23.110205</td>\n",
       "      <td>0.297675</td>\n",
       "      <td>0.397921</td>\n",
       "      <td>0.258265</td>\n",
       "      <td>0.171686</td>\n",
       "      <td>0.161543</td>\n",
       "      <td>0.466873</td>\n",
       "      <td>0.401444</td>\n",
       "    </tr>\n",
       "    <tr>\n",
       "      <th>min</th>\n",
       "      <td>-1.000000</td>\n",
       "      <td>0.000000</td>\n",
       "      <td>0.000000</td>\n",
       "      <td>0.000000</td>\n",
       "      <td>0.000000</td>\n",
       "      <td>0.000000</td>\n",
       "      <td>0.000000</td>\n",
       "      <td>0.000000</td>\n",
       "    </tr>\n",
       "    <tr>\n",
       "      <th>25%</th>\n",
       "      <td>18.000000</td>\n",
       "      <td>0.000000</td>\n",
       "      <td>0.000000</td>\n",
       "      <td>0.000000</td>\n",
       "      <td>0.000000</td>\n",
       "      <td>0.000000</td>\n",
       "      <td>0.000000</td>\n",
       "      <td>0.000000</td>\n",
       "    </tr>\n",
       "    <tr>\n",
       "      <th>50%</th>\n",
       "      <td>37.000000</td>\n",
       "      <td>0.000000</td>\n",
       "      <td>0.000000</td>\n",
       "      <td>0.000000</td>\n",
       "      <td>0.000000</td>\n",
       "      <td>0.000000</td>\n",
       "      <td>0.000000</td>\n",
       "      <td>0.000000</td>\n",
       "    </tr>\n",
       "    <tr>\n",
       "      <th>75%</th>\n",
       "      <td>55.000000</td>\n",
       "      <td>0.000000</td>\n",
       "      <td>0.000000</td>\n",
       "      <td>0.000000</td>\n",
       "      <td>0.000000</td>\n",
       "      <td>0.000000</td>\n",
       "      <td>1.000000</td>\n",
       "      <td>0.000000</td>\n",
       "    </tr>\n",
       "    <tr>\n",
       "      <th>max</th>\n",
       "      <td>115.000000</td>\n",
       "      <td>1.000000</td>\n",
       "      <td>1.000000</td>\n",
       "      <td>1.000000</td>\n",
       "      <td>1.000000</td>\n",
       "      <td>4.000000</td>\n",
       "      <td>1.000000</td>\n",
       "      <td>1.000000</td>\n",
       "    </tr>\n",
       "  </tbody>\n",
       "</table>\n",
       "</div>"
      ],
      "text/plain": [
       "                 Age    Scholarship   Hipertension       Diabetes  \\\n",
       "count  110527.000000  110527.000000  110527.000000  110527.000000   \n",
       "mean       37.088874       0.098266       0.197246       0.071865   \n",
       "std        23.110205       0.297675       0.397921       0.258265   \n",
       "min        -1.000000       0.000000       0.000000       0.000000   \n",
       "25%        18.000000       0.000000       0.000000       0.000000   \n",
       "50%        37.000000       0.000000       0.000000       0.000000   \n",
       "75%        55.000000       0.000000       0.000000       0.000000   \n",
       "max       115.000000       1.000000       1.000000       1.000000   \n",
       "\n",
       "          Alcoholism        Handcap   SMS_received        No_show  \n",
       "count  110527.000000  110527.000000  110527.000000  110527.000000  \n",
       "mean        0.030400       0.022248       0.321026       0.201933  \n",
       "std         0.171686       0.161543       0.466873       0.401444  \n",
       "min         0.000000       0.000000       0.000000       0.000000  \n",
       "25%         0.000000       0.000000       0.000000       0.000000  \n",
       "50%         0.000000       0.000000       0.000000       0.000000  \n",
       "75%         0.000000       0.000000       1.000000       0.000000  \n",
       "max         1.000000       4.000000       1.000000       1.000000  "
      ]
     },
     "execution_count": 13,
     "metadata": {},
     "output_type": "execute_result"
    }
   ],
   "source": [
    "print(\"Tableau statistique:\")\n",
    "df.describe()"
   ]
  },
  {
   "cell_type": "markdown",
   "metadata": {
    "slideshow": {
     "slide_type": "slide"
    }
   },
   "source": [
    "La moyenne de la colonne **No_show** est de **0.20**. Ce qui signifie qu'environ **20%** des rendez-vous de notre base de données **n'ont pas été honorés.**"
   ]
  },
  {
   "cell_type": "markdown",
   "metadata": {
    "slideshow": {
     "slide_type": "slide"
    }
   },
   "source": [
    "### Creation de nouvelles colonnes\n",
    "\n",
    "> <hr/>\n",
    "En introduction de ce projet, nous avons des questions relatives aux jours de la semaine et aux heures. En effet, nous aimerions savoir s'il y a des jours et des heures en particulier où les patients ont plus souvent manqué un rendez-vous. Nous allons donc créer deux nouvelles colonnes, à savoir:<br />\n",
    " \n",
    "> <ul>\n",
    "    <li>la colonne <b>Appointment_dow</b>: dans laquelle nous allons extraire le jour de la semaine à partir de la colonne <b>AppointmentDay</b></li>\n",
    "    <li>la colonne <b>Appointment_hour</b>: dans laquelle nous allons extraire l'heure de début du rendez-vous à partir de la colonne <b>ScheduledDay</b></li>\n",
    "</ul>"
   ]
  },
  {
   "cell_type": "code",
   "execution_count": 14,
   "metadata": {
    "scrolled": true,
    "slideshow": {
     "slide_type": "slide"
    }
   },
   "outputs": [
    {
     "data": {
      "text/html": [
       "<div>\n",
       "<style scoped>\n",
       "    .dataframe tbody tr th:only-of-type {\n",
       "        vertical-align: middle;\n",
       "    }\n",
       "\n",
       "    .dataframe tbody tr th {\n",
       "        vertical-align: top;\n",
       "    }\n",
       "\n",
       "    .dataframe thead th {\n",
       "        text-align: right;\n",
       "    }\n",
       "</style>\n",
       "<table border=\"1\" class=\"dataframe\">\n",
       "  <thead>\n",
       "    <tr style=\"text-align: right;\">\n",
       "      <th></th>\n",
       "      <th>PatientId</th>\n",
       "      <th>AppointmentID</th>\n",
       "      <th>Gender</th>\n",
       "      <th>ScheduledDay</th>\n",
       "      <th>AppointmentDay</th>\n",
       "      <th>Age</th>\n",
       "      <th>Neighbourhood</th>\n",
       "      <th>Scholarship</th>\n",
       "      <th>Hipertension</th>\n",
       "      <th>Diabetes</th>\n",
       "      <th>Alcoholism</th>\n",
       "      <th>Handcap</th>\n",
       "      <th>SMS_received</th>\n",
       "      <th>No_show</th>\n",
       "      <th>Appointment_dow</th>\n",
       "      <th>Appointment_hour</th>\n",
       "    </tr>\n",
       "  </thead>\n",
       "  <tbody>\n",
       "    <tr>\n",
       "      <th>0</th>\n",
       "      <td>29872499824296.0</td>\n",
       "      <td>5642903</td>\n",
       "      <td>F</td>\n",
       "      <td>2016-04-29 18:38:08+00:00</td>\n",
       "      <td>2016-04-29 00:00:00+00:00</td>\n",
       "      <td>62</td>\n",
       "      <td>JARDIM DA PENHA</td>\n",
       "      <td>0</td>\n",
       "      <td>1</td>\n",
       "      <td>0</td>\n",
       "      <td>0</td>\n",
       "      <td>0</td>\n",
       "      <td>0</td>\n",
       "      <td>0</td>\n",
       "      <td>4</td>\n",
       "      <td>18</td>\n",
       "    </tr>\n",
       "    <tr>\n",
       "      <th>1</th>\n",
       "      <td>558997776694438.0</td>\n",
       "      <td>5642503</td>\n",
       "      <td>M</td>\n",
       "      <td>2016-04-29 16:08:27+00:00</td>\n",
       "      <td>2016-04-29 00:00:00+00:00</td>\n",
       "      <td>56</td>\n",
       "      <td>JARDIM DA PENHA</td>\n",
       "      <td>0</td>\n",
       "      <td>0</td>\n",
       "      <td>0</td>\n",
       "      <td>0</td>\n",
       "      <td>0</td>\n",
       "      <td>0</td>\n",
       "      <td>0</td>\n",
       "      <td>4</td>\n",
       "      <td>16</td>\n",
       "    </tr>\n",
       "    <tr>\n",
       "      <th>2</th>\n",
       "      <td>4262962299951.0</td>\n",
       "      <td>5642549</td>\n",
       "      <td>F</td>\n",
       "      <td>2016-04-29 16:19:04+00:00</td>\n",
       "      <td>2016-04-29 00:00:00+00:00</td>\n",
       "      <td>62</td>\n",
       "      <td>MATA DA PRAIA</td>\n",
       "      <td>0</td>\n",
       "      <td>0</td>\n",
       "      <td>0</td>\n",
       "      <td>0</td>\n",
       "      <td>0</td>\n",
       "      <td>0</td>\n",
       "      <td>0</td>\n",
       "      <td>4</td>\n",
       "      <td>16</td>\n",
       "    </tr>\n",
       "    <tr>\n",
       "      <th>3</th>\n",
       "      <td>867951213174.0</td>\n",
       "      <td>5642828</td>\n",
       "      <td>F</td>\n",
       "      <td>2016-04-29 17:29:31+00:00</td>\n",
       "      <td>2016-04-29 00:00:00+00:00</td>\n",
       "      <td>8</td>\n",
       "      <td>PONTAL DE CAMBURI</td>\n",
       "      <td>0</td>\n",
       "      <td>0</td>\n",
       "      <td>0</td>\n",
       "      <td>0</td>\n",
       "      <td>0</td>\n",
       "      <td>0</td>\n",
       "      <td>0</td>\n",
       "      <td>4</td>\n",
       "      <td>17</td>\n",
       "    </tr>\n",
       "    <tr>\n",
       "      <th>4</th>\n",
       "      <td>8841186448183.0</td>\n",
       "      <td>5642494</td>\n",
       "      <td>F</td>\n",
       "      <td>2016-04-29 16:07:23+00:00</td>\n",
       "      <td>2016-04-29 00:00:00+00:00</td>\n",
       "      <td>56</td>\n",
       "      <td>JARDIM DA PENHA</td>\n",
       "      <td>0</td>\n",
       "      <td>1</td>\n",
       "      <td>1</td>\n",
       "      <td>0</td>\n",
       "      <td>0</td>\n",
       "      <td>0</td>\n",
       "      <td>0</td>\n",
       "      <td>4</td>\n",
       "      <td>16</td>\n",
       "    </tr>\n",
       "  </tbody>\n",
       "</table>\n",
       "</div>"
      ],
      "text/plain": [
       "           PatientId AppointmentID Gender              ScheduledDay  \\\n",
       "0   29872499824296.0       5642903      F 2016-04-29 18:38:08+00:00   \n",
       "1  558997776694438.0       5642503      M 2016-04-29 16:08:27+00:00   \n",
       "2    4262962299951.0       5642549      F 2016-04-29 16:19:04+00:00   \n",
       "3     867951213174.0       5642828      F 2016-04-29 17:29:31+00:00   \n",
       "4    8841186448183.0       5642494      F 2016-04-29 16:07:23+00:00   \n",
       "\n",
       "             AppointmentDay  Age      Neighbourhood  Scholarship  \\\n",
       "0 2016-04-29 00:00:00+00:00   62    JARDIM DA PENHA            0   \n",
       "1 2016-04-29 00:00:00+00:00   56    JARDIM DA PENHA            0   \n",
       "2 2016-04-29 00:00:00+00:00   62      MATA DA PRAIA            0   \n",
       "3 2016-04-29 00:00:00+00:00    8  PONTAL DE CAMBURI            0   \n",
       "4 2016-04-29 00:00:00+00:00   56    JARDIM DA PENHA            0   \n",
       "\n",
       "   Hipertension  Diabetes  Alcoholism  Handcap  SMS_received  No_show  \\\n",
       "0             1         0           0        0             0        0   \n",
       "1             0         0           0        0             0        0   \n",
       "2             0         0           0        0             0        0   \n",
       "3             0         0           0        0             0        0   \n",
       "4             1         1           0        0             0        0   \n",
       "\n",
       "   Appointment_dow  Appointment_hour  \n",
       "0                4                18  \n",
       "1                4                16  \n",
       "2                4                16  \n",
       "3                4                17  \n",
       "4                4                16  "
      ]
     },
     "execution_count": 14,
     "metadata": {},
     "output_type": "execute_result"
    }
   ],
   "source": [
    "# Création des colonnes 'Appointment_dow' et 'Appointment_hour'\n",
    "df['Appointment_dow'] = df['AppointmentDay'].dt.dayofweek\n",
    "df['Appointment_hour'] = df['ScheduledDay'].dt.hour\n",
    "# Vérification du résultat\n",
    "df.head()"
   ]
  },
  {
   "cell_type": "markdown",
   "metadata": {
    "slideshow": {
     "slide_type": "slide"
    }
   },
   "source": [
    "Signification des valeurs de <b>Appointment_dow:</b>\n",
    "<ul>\n",
    "    <li><b>0: </b>Lundi</li>\n",
    "    <li><b>1: </b>Mardi</li>\n",
    "    <li><b>2: </b>Mercredi</li>\n",
    "    <li><b>3: </b>Jeudi</li>\n",
    "    <li><b>4: </b>Vendredi</li>\n",
    "    <li><b>5: </b>Samedi</li>\n",
    "    <li><b>6: </b>Dimanche</li>\n",
    "</ul>"
   ]
  },
  {
   "cell_type": "markdown",
   "metadata": {
    "slideshow": {
     "slide_type": "slide"
    }
   },
   "source": [
    "Nous allons remplacer les valeurs par defaut de la colonne <i>Appointment_dow</i> par les noms des jours de la semaine."
   ]
  },
  {
   "cell_type": "code",
   "execution_count": 15,
   "metadata": {
    "slideshow": {
     "slide_type": "slide"
    }
   },
   "outputs": [
    {
     "data": {
      "text/html": [
       "<div>\n",
       "<style scoped>\n",
       "    .dataframe tbody tr th:only-of-type {\n",
       "        vertical-align: middle;\n",
       "    }\n",
       "\n",
       "    .dataframe tbody tr th {\n",
       "        vertical-align: top;\n",
       "    }\n",
       "\n",
       "    .dataframe thead th {\n",
       "        text-align: right;\n",
       "    }\n",
       "</style>\n",
       "<table border=\"1\" class=\"dataframe\">\n",
       "  <thead>\n",
       "    <tr style=\"text-align: right;\">\n",
       "      <th></th>\n",
       "      <th>PatientId</th>\n",
       "      <th>AppointmentID</th>\n",
       "      <th>Gender</th>\n",
       "      <th>ScheduledDay</th>\n",
       "      <th>AppointmentDay</th>\n",
       "      <th>Age</th>\n",
       "      <th>Neighbourhood</th>\n",
       "      <th>Scholarship</th>\n",
       "      <th>Hipertension</th>\n",
       "      <th>Diabetes</th>\n",
       "      <th>Alcoholism</th>\n",
       "      <th>Handcap</th>\n",
       "      <th>SMS_received</th>\n",
       "      <th>No_show</th>\n",
       "      <th>Appointment_dow</th>\n",
       "      <th>Appointment_hour</th>\n",
       "    </tr>\n",
       "  </thead>\n",
       "  <tbody>\n",
       "    <tr>\n",
       "      <th>0</th>\n",
       "      <td>29872499824296.0</td>\n",
       "      <td>5642903</td>\n",
       "      <td>F</td>\n",
       "      <td>2016-04-29 18:38:08+00:00</td>\n",
       "      <td>2016-04-29 00:00:00+00:00</td>\n",
       "      <td>62</td>\n",
       "      <td>JARDIM DA PENHA</td>\n",
       "      <td>0</td>\n",
       "      <td>1</td>\n",
       "      <td>0</td>\n",
       "      <td>0</td>\n",
       "      <td>0</td>\n",
       "      <td>0</td>\n",
       "      <td>0</td>\n",
       "      <td>Friday</td>\n",
       "      <td>18</td>\n",
       "    </tr>\n",
       "    <tr>\n",
       "      <th>1</th>\n",
       "      <td>558997776694438.0</td>\n",
       "      <td>5642503</td>\n",
       "      <td>M</td>\n",
       "      <td>2016-04-29 16:08:27+00:00</td>\n",
       "      <td>2016-04-29 00:00:00+00:00</td>\n",
       "      <td>56</td>\n",
       "      <td>JARDIM DA PENHA</td>\n",
       "      <td>0</td>\n",
       "      <td>0</td>\n",
       "      <td>0</td>\n",
       "      <td>0</td>\n",
       "      <td>0</td>\n",
       "      <td>0</td>\n",
       "      <td>0</td>\n",
       "      <td>Friday</td>\n",
       "      <td>16</td>\n",
       "    </tr>\n",
       "    <tr>\n",
       "      <th>2</th>\n",
       "      <td>4262962299951.0</td>\n",
       "      <td>5642549</td>\n",
       "      <td>F</td>\n",
       "      <td>2016-04-29 16:19:04+00:00</td>\n",
       "      <td>2016-04-29 00:00:00+00:00</td>\n",
       "      <td>62</td>\n",
       "      <td>MATA DA PRAIA</td>\n",
       "      <td>0</td>\n",
       "      <td>0</td>\n",
       "      <td>0</td>\n",
       "      <td>0</td>\n",
       "      <td>0</td>\n",
       "      <td>0</td>\n",
       "      <td>0</td>\n",
       "      <td>Friday</td>\n",
       "      <td>16</td>\n",
       "    </tr>\n",
       "    <tr>\n",
       "      <th>3</th>\n",
       "      <td>867951213174.0</td>\n",
       "      <td>5642828</td>\n",
       "      <td>F</td>\n",
       "      <td>2016-04-29 17:29:31+00:00</td>\n",
       "      <td>2016-04-29 00:00:00+00:00</td>\n",
       "      <td>8</td>\n",
       "      <td>PONTAL DE CAMBURI</td>\n",
       "      <td>0</td>\n",
       "      <td>0</td>\n",
       "      <td>0</td>\n",
       "      <td>0</td>\n",
       "      <td>0</td>\n",
       "      <td>0</td>\n",
       "      <td>0</td>\n",
       "      <td>Friday</td>\n",
       "      <td>17</td>\n",
       "    </tr>\n",
       "    <tr>\n",
       "      <th>4</th>\n",
       "      <td>8841186448183.0</td>\n",
       "      <td>5642494</td>\n",
       "      <td>F</td>\n",
       "      <td>2016-04-29 16:07:23+00:00</td>\n",
       "      <td>2016-04-29 00:00:00+00:00</td>\n",
       "      <td>56</td>\n",
       "      <td>JARDIM DA PENHA</td>\n",
       "      <td>0</td>\n",
       "      <td>1</td>\n",
       "      <td>1</td>\n",
       "      <td>0</td>\n",
       "      <td>0</td>\n",
       "      <td>0</td>\n",
       "      <td>0</td>\n",
       "      <td>Friday</td>\n",
       "      <td>16</td>\n",
       "    </tr>\n",
       "  </tbody>\n",
       "</table>\n",
       "</div>"
      ],
      "text/plain": [
       "           PatientId AppointmentID Gender              ScheduledDay  \\\n",
       "0   29872499824296.0       5642903      F 2016-04-29 18:38:08+00:00   \n",
       "1  558997776694438.0       5642503      M 2016-04-29 16:08:27+00:00   \n",
       "2    4262962299951.0       5642549      F 2016-04-29 16:19:04+00:00   \n",
       "3     867951213174.0       5642828      F 2016-04-29 17:29:31+00:00   \n",
       "4    8841186448183.0       5642494      F 2016-04-29 16:07:23+00:00   \n",
       "\n",
       "             AppointmentDay  Age      Neighbourhood  Scholarship  \\\n",
       "0 2016-04-29 00:00:00+00:00   62    JARDIM DA PENHA            0   \n",
       "1 2016-04-29 00:00:00+00:00   56    JARDIM DA PENHA            0   \n",
       "2 2016-04-29 00:00:00+00:00   62      MATA DA PRAIA            0   \n",
       "3 2016-04-29 00:00:00+00:00    8  PONTAL DE CAMBURI            0   \n",
       "4 2016-04-29 00:00:00+00:00   56    JARDIM DA PENHA            0   \n",
       "\n",
       "   Hipertension  Diabetes  Alcoholism  Handcap  SMS_received  No_show  \\\n",
       "0             1         0           0        0             0        0   \n",
       "1             0         0           0        0             0        0   \n",
       "2             0         0           0        0             0        0   \n",
       "3             0         0           0        0             0        0   \n",
       "4             1         1           0        0             0        0   \n",
       "\n",
       "  Appointment_dow  Appointment_hour  \n",
       "0          Friday                18  \n",
       "1          Friday                16  \n",
       "2          Friday                16  \n",
       "3          Friday                17  \n",
       "4          Friday                16  "
      ]
     },
     "execution_count": 15,
     "metadata": {},
     "output_type": "execute_result"
    }
   ],
   "source": [
    "# On crée une série conditionnelle pour faire correspondre les numéros des jours de la semaine aux noms\n",
    "dow = np.where(df.Appointment_dow == 0, \"Monday\", \n",
    "                         np.where(df.Appointment_dow == 1, \"Tuesday\",\n",
    "                         np.where(df.Appointment_dow == 2, \"Wednesday\",\n",
    "                         np.where(df.Appointment_dow == 3, \"Thursday\",\n",
    "                         np.where(df.Appointment_dow == 4, \"Friday\",\n",
    "                         np.where(df.Appointment_dow == 5, \"Saturday\", \"Sunday\"))))))\n",
    "\n",
    "# On remplace la colonne actuelle par la série nouvellement créee\n",
    "df['Appointment_dow'] = dow\n",
    "df.head()"
   ]
  },
  {
   "cell_type": "markdown",
   "metadata": {
    "slideshow": {
     "slide_type": "slide"
    }
   },
   "source": [
    "Il sera aussi question de savoir si les patients d'un certain âge ont plus manqué leur rendez-vous. Nous allons donc créer la colonne **age_group** qui va diviser les patients en differents groupes en fonction de leur âge."
   ]
  },
  {
   "cell_type": "code",
   "execution_count": 16,
   "metadata": {
    "slideshow": {
     "slide_type": "slide"
    }
   },
   "outputs": [
    {
     "data": {
      "text/html": [
       "<div>\n",
       "<style scoped>\n",
       "    .dataframe tbody tr th:only-of-type {\n",
       "        vertical-align: middle;\n",
       "    }\n",
       "\n",
       "    .dataframe tbody tr th {\n",
       "        vertical-align: top;\n",
       "    }\n",
       "\n",
       "    .dataframe thead th {\n",
       "        text-align: right;\n",
       "    }\n",
       "</style>\n",
       "<table border=\"1\" class=\"dataframe\">\n",
       "  <thead>\n",
       "    <tr style=\"text-align: right;\">\n",
       "      <th></th>\n",
       "      <th>PatientId</th>\n",
       "      <th>AppointmentID</th>\n",
       "      <th>Gender</th>\n",
       "      <th>ScheduledDay</th>\n",
       "      <th>AppointmentDay</th>\n",
       "      <th>Age</th>\n",
       "      <th>Neighbourhood</th>\n",
       "      <th>Scholarship</th>\n",
       "      <th>Hipertension</th>\n",
       "      <th>Diabetes</th>\n",
       "      <th>Alcoholism</th>\n",
       "      <th>Handcap</th>\n",
       "      <th>SMS_received</th>\n",
       "      <th>No_show</th>\n",
       "      <th>Appointment_dow</th>\n",
       "      <th>Appointment_hour</th>\n",
       "      <th>age_group</th>\n",
       "    </tr>\n",
       "  </thead>\n",
       "  <tbody>\n",
       "    <tr>\n",
       "      <th>0</th>\n",
       "      <td>29872499824296.0</td>\n",
       "      <td>5642903</td>\n",
       "      <td>F</td>\n",
       "      <td>2016-04-29 18:38:08+00:00</td>\n",
       "      <td>2016-04-29 00:00:00+00:00</td>\n",
       "      <td>62</td>\n",
       "      <td>JARDIM DA PENHA</td>\n",
       "      <td>0</td>\n",
       "      <td>1</td>\n",
       "      <td>0</td>\n",
       "      <td>0</td>\n",
       "      <td>0</td>\n",
       "      <td>0</td>\n",
       "      <td>0</td>\n",
       "      <td>Friday</td>\n",
       "      <td>18</td>\n",
       "      <td>(60, 70]</td>\n",
       "    </tr>\n",
       "    <tr>\n",
       "      <th>1</th>\n",
       "      <td>558997776694438.0</td>\n",
       "      <td>5642503</td>\n",
       "      <td>M</td>\n",
       "      <td>2016-04-29 16:08:27+00:00</td>\n",
       "      <td>2016-04-29 00:00:00+00:00</td>\n",
       "      <td>56</td>\n",
       "      <td>JARDIM DA PENHA</td>\n",
       "      <td>0</td>\n",
       "      <td>0</td>\n",
       "      <td>0</td>\n",
       "      <td>0</td>\n",
       "      <td>0</td>\n",
       "      <td>0</td>\n",
       "      <td>0</td>\n",
       "      <td>Friday</td>\n",
       "      <td>16</td>\n",
       "      <td>(50, 60]</td>\n",
       "    </tr>\n",
       "    <tr>\n",
       "      <th>2</th>\n",
       "      <td>4262962299951.0</td>\n",
       "      <td>5642549</td>\n",
       "      <td>F</td>\n",
       "      <td>2016-04-29 16:19:04+00:00</td>\n",
       "      <td>2016-04-29 00:00:00+00:00</td>\n",
       "      <td>62</td>\n",
       "      <td>MATA DA PRAIA</td>\n",
       "      <td>0</td>\n",
       "      <td>0</td>\n",
       "      <td>0</td>\n",
       "      <td>0</td>\n",
       "      <td>0</td>\n",
       "      <td>0</td>\n",
       "      <td>0</td>\n",
       "      <td>Friday</td>\n",
       "      <td>16</td>\n",
       "      <td>(60, 70]</td>\n",
       "    </tr>\n",
       "    <tr>\n",
       "      <th>3</th>\n",
       "      <td>867951213174.0</td>\n",
       "      <td>5642828</td>\n",
       "      <td>F</td>\n",
       "      <td>2016-04-29 17:29:31+00:00</td>\n",
       "      <td>2016-04-29 00:00:00+00:00</td>\n",
       "      <td>8</td>\n",
       "      <td>PONTAL DE CAMBURI</td>\n",
       "      <td>0</td>\n",
       "      <td>0</td>\n",
       "      <td>0</td>\n",
       "      <td>0</td>\n",
       "      <td>0</td>\n",
       "      <td>0</td>\n",
       "      <td>0</td>\n",
       "      <td>Friday</td>\n",
       "      <td>17</td>\n",
       "      <td>(0, 10]</td>\n",
       "    </tr>\n",
       "    <tr>\n",
       "      <th>4</th>\n",
       "      <td>8841186448183.0</td>\n",
       "      <td>5642494</td>\n",
       "      <td>F</td>\n",
       "      <td>2016-04-29 16:07:23+00:00</td>\n",
       "      <td>2016-04-29 00:00:00+00:00</td>\n",
       "      <td>56</td>\n",
       "      <td>JARDIM DA PENHA</td>\n",
       "      <td>0</td>\n",
       "      <td>1</td>\n",
       "      <td>1</td>\n",
       "      <td>0</td>\n",
       "      <td>0</td>\n",
       "      <td>0</td>\n",
       "      <td>0</td>\n",
       "      <td>Friday</td>\n",
       "      <td>16</td>\n",
       "      <td>(50, 60]</td>\n",
       "    </tr>\n",
       "  </tbody>\n",
       "</table>\n",
       "</div>"
      ],
      "text/plain": [
       "           PatientId AppointmentID Gender              ScheduledDay  \\\n",
       "0   29872499824296.0       5642903      F 2016-04-29 18:38:08+00:00   \n",
       "1  558997776694438.0       5642503      M 2016-04-29 16:08:27+00:00   \n",
       "2    4262962299951.0       5642549      F 2016-04-29 16:19:04+00:00   \n",
       "3     867951213174.0       5642828      F 2016-04-29 17:29:31+00:00   \n",
       "4    8841186448183.0       5642494      F 2016-04-29 16:07:23+00:00   \n",
       "\n",
       "             AppointmentDay  Age      Neighbourhood  Scholarship  \\\n",
       "0 2016-04-29 00:00:00+00:00   62    JARDIM DA PENHA            0   \n",
       "1 2016-04-29 00:00:00+00:00   56    JARDIM DA PENHA            0   \n",
       "2 2016-04-29 00:00:00+00:00   62      MATA DA PRAIA            0   \n",
       "3 2016-04-29 00:00:00+00:00    8  PONTAL DE CAMBURI            0   \n",
       "4 2016-04-29 00:00:00+00:00   56    JARDIM DA PENHA            0   \n",
       "\n",
       "   Hipertension  Diabetes  Alcoholism  Handcap  SMS_received  No_show  \\\n",
       "0             1         0           0        0             0        0   \n",
       "1             0         0           0        0             0        0   \n",
       "2             0         0           0        0             0        0   \n",
       "3             0         0           0        0             0        0   \n",
       "4             1         1           0        0             0        0   \n",
       "\n",
       "  Appointment_dow  Appointment_hour age_group  \n",
       "0          Friday                18  (60, 70]  \n",
       "1          Friday                16  (50, 60]  \n",
       "2          Friday                16  (60, 70]  \n",
       "3          Friday                17   (0, 10]  \n",
       "4          Friday                16  (50, 60]  "
      ]
     },
     "execution_count": 16,
     "metadata": {},
     "output_type": "execute_result"
    }
   ],
   "source": [
    "# création des valeurs limitrophes pour les groupes en fonction de l'âge\n",
    "ages_bound = [0, 10, 20, 30, 40, 50, 60, 70, 80, 90, 115]\n",
    "# création des libellés de chaque groupe d'âge\n",
    "ages_group = ['0-10', '10-20', '20-30', '30-40', '40-50', '50-60', '60-70', '70-80', '80-90', '90-115']\n",
    "# création de la nouvelle colonne age_group\n",
    "df['age_group'] = pd.cut(df.Age, ages_bound, ages_group)\n",
    "# vérification des resultats\n",
    "df.head()"
   ]
  },
  {
   "cell_type": "markdown",
   "metadata": {
    "slideshow": {
     "slide_type": "slide"
    }
   },
   "source": [
    "Nous avons nettoyé nos données et crée de nouvelles colonnes. Nous pouvons à présent passer à une exploration plus appronfondie, dans le but de répondre à nos interrogations.\n",
    "<h3></h3>\n",
    "<hr>"
   ]
  },
  {
   "cell_type": "markdown",
   "metadata": {
    "slideshow": {
     "slide_type": "slide"
    }
   },
   "source": [
    "<a id='eda'></a>\n",
    "## III - Analyse exploratoire des données\n",
    "\n",
    "> Petit rappel sur les questions de base:\n",
    "\n",
    "<ol>\n",
    "    <li>Comment est la distribution de l'âge des patients de cette base de données ?</li>\n",
    "    <li>Les patients d'un certain âge manquent t-ils plus leur rendez-vous ?</li>\n",
    "    <li>Quelles sont les localisations où les proportions de rendez-vous manqués sont les plus élevées?</li>\n",
    "    <li>Y a-t-il des jours de la semaine où les rendez-vous sont le plus manqués ?</li>\n",
    "    <li>Qu’en est-il des heures de rendez-vous ?</li>\n",
    "    <li>Les patients qui ont reçu des messages viennent t-ils plus à leur rendez-vous?</li>\n",
    "</ol>  \n",
    "\n",
    "### Question 1 : Comment est la distribution de l'âge des patients de cette base de données ?\n",
    "<hr />"
   ]
  },
  {
   "cell_type": "markdown",
   "metadata": {
    "slideshow": {
     "slide_type": "slide"
    }
   },
   "source": [
    "Nous allons générer un histogramme permettant de visualiser cette distribution."
   ]
  },
  {
   "cell_type": "code",
   "execution_count": 17,
   "metadata": {
    "slideshow": {
     "slide_type": "slide"
    }
   },
   "outputs": [
    {
     "data": {
      "image/png": "[encoded data removed]",
      "text/plain": [
       "<Figure size 576x576 with 1 Axes>"
      ]
     },
     "metadata": {
      "needs_background": "light"
     },
     "output_type": "display_data"
    }
   ],
   "source": [
    "plt.figure(figsize=(8, 8))\n",
    "plt.hist(df.Age)\n",
    "plt.xlabel(\"Age\")\n",
    "plt.ylabel(\"Nombre de patients\")\n",
    "plt.title(\"Distribution de l'âge des patients\", fontsize=15);"
   ]
  },
  {
   "cell_type": "markdown",
   "metadata": {
    "slideshow": {
     "slide_type": "slide"
    }
   },
   "source": [
    "La grande majorité des rendez-vous sont pour des patients de moins de 11 ans. La distribution est légerement inclinée vers la droite. <br />\n",
    "<hr>"
   ]
  },
  {
   "cell_type": "markdown",
   "metadata": {
    "slideshow": {
     "slide_type": "slide"
    }
   },
   "source": [
    "### Question 2 : Les patients d'un certain âge manquent t-ils plus leur rendez-vous ?\n",
    "\n",
    "Nous allons inspecter la <b>proportion des rendez-vous manqués par groupe d'âge</b>."
   ]
  },
  {
   "cell_type": "code",
   "execution_count": 18,
   "metadata": {
    "slideshow": {
     "slide_type": "slide"
    }
   },
   "outputs": [
    {
     "name": "stdout",
     "output_type": "stream",
     "text": [
      "Nombre total de rendez-vous\n"
     ]
    },
    {
     "data": {
      "text/plain": [
       "age_group\n",
       "(0, 10]      15210\n",
       "(10, 20]     13099\n",
       "(20, 30]     13783\n",
       "(30, 40]     15052\n",
       "(40, 50]     14420\n",
       "(50, 60]     15661\n",
       "(60, 70]     11189\n",
       "(70, 80]      5721\n",
       "(80, 90]      2544\n",
       "(90, 115]      308\n",
       "Name: AppointmentID, dtype: int64"
      ]
     },
     "execution_count": 18,
     "metadata": {},
     "output_type": "execute_result"
    }
   ],
   "source": [
    "# on trouve le nombre TOTAL de rendez-vous pour chaque groupe\n",
    "ages_group = df.groupby('age_group').count()\n",
    "print(\"Nombre total de rendez-vous\")\n",
    "ages_group['AppointmentID']"
   ]
  },
  {
   "cell_type": "code",
   "execution_count": 19,
   "metadata": {
    "scrolled": true,
    "slideshow": {
     "slide_type": "slide"
    }
   },
   "outputs": [
    {
     "name": "stdout",
     "output_type": "stream",
     "text": [
      "Nombre de rendez-vous manqués pour chaque groupe\n"
     ]
    },
    {
     "data": {
      "text/plain": [
       "age_group\n",
       "(0, 10]      3149\n",
       "(10, 20]     3308\n",
       "(20, 30]     3394\n",
       "(30, 40]     3232\n",
       "(40, 50]     2870\n",
       "(50, 60]     2721\n",
       "(60, 70]     1648\n",
       "(70, 80]      889\n",
       "(80, 90]      407\n",
       "(90, 115]      62\n",
       "Name: AppointmentID, dtype: int64"
      ]
     },
     "execution_count": 19,
     "metadata": {},
     "output_type": "execute_result"
    }
   ],
   "source": [
    "# on trouve le nombre de rendez-vous manqués pour chaque groupe\n",
    "ages_group_not_show = df.query('No_show == 1').groupby('age_group').count()\n",
    "print(\"Nombre de rendez-vous manqués pour chaque groupe\")\n",
    "ages_group_not_show['AppointmentID']"
   ]
  },
  {
   "cell_type": "code",
   "execution_count": 20,
   "metadata": {
    "scrolled": true,
    "slideshow": {
     "slide_type": "slide"
    }
   },
   "outputs": [
    {
     "name": "stdout",
     "output_type": "stream",
     "text": [
      "Proportion de rendez-vous manqués pour chaque groupe\n"
     ]
    },
    {
     "data": {
      "text/plain": [
       "age_group\n",
       "(10, 20]     0.252538\n",
       "(20, 30]     0.246245\n",
       "(30, 40]     0.214722\n",
       "(0, 10]      0.207035\n",
       "(90, 115]    0.201299\n",
       "(40, 50]     0.199029\n",
       "(50, 60]     0.173744\n",
       "(80, 90]     0.159984\n",
       "(70, 80]     0.155392\n",
       "(60, 70]     0.147288\n",
       "Name: AppointmentID, dtype: float64"
      ]
     },
     "execution_count": 20,
     "metadata": {},
     "output_type": "execute_result"
    }
   ],
   "source": [
    "# on trouve la proportion de rendez-vous manqués pour chaque groupe\n",
    "prop_ages_group_not_show = ages_group_not_show.AppointmentID / ages_group.AppointmentID\n",
    "print(\"Proportion de rendez-vous manqués pour chaque groupe\")\n",
    "prop_ages_group_not_show.sort_values(ascending=False)"
   ]
  },
  {
   "cell_type": "markdown",
   "metadata": {
    "slideshow": {
     "slide_type": "slide"
    }
   },
   "source": [
    "<b>Visualisons ces proportions sur un graphe</b>"
   ]
  },
  {
   "cell_type": "code",
   "execution_count": 21,
   "metadata": {
    "slideshow": {
     "slide_type": "slide"
    }
   },
   "outputs": [
    {
     "data": {
      "image/png": "[encoded data removed]",
      "text/plain": [
       "<Figure size 576x432 with 1 Axes>"
      ]
     },
     "metadata": {
      "needs_background": "light"
     },
     "output_type": "display_data"
    }
   ],
   "source": [
    "plt.figure(figsize=(8, 6))\n",
    "prop_ages_group_not_show.sort_values(ascending=False).plot(kind='bar')\n",
    "plt.title(\"Proportion de rendez-vous manqués par groupe d'âge\", fontsize=14)\n",
    "plt.ylabel(\"Proportion\");"
   ]
  },
  {
   "cell_type": "markdown",
   "metadata": {
    "slideshow": {
     "slide_type": "slide"
    }
   },
   "source": [
    "Les groupes de 10-20 ans et 20-30 ans sont ceux avec les plus grandes proportions de rendez-vous manqués avec:\n",
    "<ul>\n",
    "    <li><b>10-20 ans</b>: 25.3% de rendez-vous manqués</li>\n",
    "    <li><b>20-30 ans</b>: 24.6% de rendez-vous manqués</li>\n",
    "</ul>"
   ]
  },
  {
   "cell_type": "markdown",
   "metadata": {
    "slideshow": {
     "slide_type": "slide"
    }
   },
   "source": [
    "### Question 3 : Quelles sont les localisations où les proportions de rendez-vous manqués sont les plus élevées? \n",
    "<hr>\n",
    "Inspectons la colonne <i>Neighbourhood</i>. Déterminons le nombre de rendez-vous pour chaque localisation."
   ]
  },
  {
   "cell_type": "code",
   "execution_count": 22,
   "metadata": {
    "scrolled": true,
    "slideshow": {
     "slide_type": "slide"
    }
   },
   "outputs": [
    {
     "name": "stdout",
     "output_type": "stream",
     "text": [
      "Nombre de rendez-vous\n"
     ]
    },
    {
     "data": {
      "text/plain": [
       "PARQUE INDUSTRIAL                1\n",
       "ILHAS OCEÂNICAS DE TRINDADE      2\n",
       "AEROPORTO                        8\n",
       "ILHA DO FRADE                   10\n",
       "ILHA DO BOI                     35\n",
       "PONTAL DE CAMBURI               69\n",
       "MORADA DE CAMBURI               96\n",
       "NAZARETH                       135\n",
       "SEGURANÇA DO LAR               145\n",
       "UNIVERSITÁRIO                  152\n",
       "Name: Neighbourhood, dtype: int64"
      ]
     },
     "execution_count": 22,
     "metadata": {},
     "output_type": "execute_result"
    }
   ],
   "source": [
    "# Nombre de rendez-vous pour chaque localisation\n",
    "# Déterminons les 10 localisations avec le moins de rendez-vous\n",
    "print(\"Nombre de rendez-vous\")\n",
    "df['Neighbourhood'].value_counts().sort_values().head(10)"
   ]
  },
  {
   "cell_type": "markdown",
   "metadata": {
    "slideshow": {
     "slide_type": "slide"
    }
   },
   "source": [
    "Certaines localisations n'ont que très peu de rendez-vous. Les inclure dans notre analyse ne serait pas judicieux. Nous allons nous concentrer sur les localisations avec plus de 200 rendez-vous. <br />\n",
    "Mais d'abord, visualisons les 10 localisations avec le plus de rendez-vous."
   ]
  },
  {
   "cell_type": "code",
   "execution_count": 23,
   "metadata": {
    "slideshow": {
     "slide_type": "slide"
    }
   },
   "outputs": [
    {
     "data": {
      "image/png": "[encoded data removed]",
      "text/plain": [
       "<Figure size 576x432 with 1 Axes>"
      ]
     },
     "metadata": {
      "needs_background": "light"
     },
     "output_type": "display_data"
    }
   ],
   "source": [
    "plt.figure(figsize=(8, 6))\n",
    "df['Neighbourhood'].value_counts().sort_values(ascending=False).head(10).sort_values().plot(kind='barh')\n",
    "plt.ylabel(\"Localisations\")\n",
    "plt.xlabel(\"Nombre de rendez-vous\")\n",
    "plt.title(\"10 Localisations avec le plus de rendez-vous\", fontsize=15);"
   ]
  },
  {
   "cell_type": "code",
   "execution_count": 24,
   "metadata": {
    "scrolled": true,
    "slideshow": {
     "slide_type": "slide"
    }
   },
   "outputs": [
    {
     "data": {
      "text/html": [
       "<div>\n",
       "<style scoped>\n",
       "    .dataframe tbody tr th:only-of-type {\n",
       "        vertical-align: middle;\n",
       "    }\n",
       "\n",
       "    .dataframe tbody tr th {\n",
       "        vertical-align: top;\n",
       "    }\n",
       "\n",
       "    .dataframe thead th {\n",
       "        text-align: right;\n",
       "    }\n",
       "</style>\n",
       "<table border=\"1\" class=\"dataframe\">\n",
       "  <thead>\n",
       "    <tr style=\"text-align: right;\">\n",
       "      <th></th>\n",
       "      <th>PatientId</th>\n",
       "      <th>AppointmentID</th>\n",
       "      <th>Gender</th>\n",
       "      <th>ScheduledDay</th>\n",
       "      <th>AppointmentDay</th>\n",
       "      <th>Age</th>\n",
       "      <th>Scholarship</th>\n",
       "      <th>Hipertension</th>\n",
       "      <th>Diabetes</th>\n",
       "      <th>Alcoholism</th>\n",
       "      <th>Handcap</th>\n",
       "      <th>SMS_received</th>\n",
       "      <th>No_show</th>\n",
       "      <th>Appointment_dow</th>\n",
       "      <th>Appointment_hour</th>\n",
       "      <th>age_group</th>\n",
       "    </tr>\n",
       "    <tr>\n",
       "      <th>Neighbourhood</th>\n",
       "      <th></th>\n",
       "      <th></th>\n",
       "      <th></th>\n",
       "      <th></th>\n",
       "      <th></th>\n",
       "      <th></th>\n",
       "      <th></th>\n",
       "      <th></th>\n",
       "      <th></th>\n",
       "      <th></th>\n",
       "      <th></th>\n",
       "      <th></th>\n",
       "      <th></th>\n",
       "      <th></th>\n",
       "      <th></th>\n",
       "      <th></th>\n",
       "    </tr>\n",
       "  </thead>\n",
       "  <tbody>\n",
       "    <tr>\n",
       "      <th>ANDORINHAS</th>\n",
       "      <td>2262</td>\n",
       "      <td>2262</td>\n",
       "      <td>2262</td>\n",
       "      <td>2262</td>\n",
       "      <td>2262</td>\n",
       "      <td>2262</td>\n",
       "      <td>2262</td>\n",
       "      <td>2262</td>\n",
       "      <td>2262</td>\n",
       "      <td>2262</td>\n",
       "      <td>2262</td>\n",
       "      <td>2262</td>\n",
       "      <td>2262</td>\n",
       "      <td>2262</td>\n",
       "      <td>2262</td>\n",
       "      <td>2195</td>\n",
       "    </tr>\n",
       "    <tr>\n",
       "      <th>ANTÔNIO HONÓRIO</th>\n",
       "      <td>271</td>\n",
       "      <td>271</td>\n",
       "      <td>271</td>\n",
       "      <td>271</td>\n",
       "      <td>271</td>\n",
       "      <td>271</td>\n",
       "      <td>271</td>\n",
       "      <td>271</td>\n",
       "      <td>271</td>\n",
       "      <td>271</td>\n",
       "      <td>271</td>\n",
       "      <td>271</td>\n",
       "      <td>271</td>\n",
       "      <td>271</td>\n",
       "      <td>271</td>\n",
       "      <td>257</td>\n",
       "    </tr>\n",
       "    <tr>\n",
       "      <th>ARIOVALDO FAVALESSA</th>\n",
       "      <td>282</td>\n",
       "      <td>282</td>\n",
       "      <td>282</td>\n",
       "      <td>282</td>\n",
       "      <td>282</td>\n",
       "      <td>282</td>\n",
       "      <td>282</td>\n",
       "      <td>282</td>\n",
       "      <td>282</td>\n",
       "      <td>282</td>\n",
       "      <td>282</td>\n",
       "      <td>282</td>\n",
       "      <td>282</td>\n",
       "      <td>282</td>\n",
       "      <td>282</td>\n",
       "      <td>268</td>\n",
       "    </tr>\n",
       "    <tr>\n",
       "      <th>BARRO VERMELHO</th>\n",
       "      <td>423</td>\n",
       "      <td>423</td>\n",
       "      <td>423</td>\n",
       "      <td>423</td>\n",
       "      <td>423</td>\n",
       "      <td>423</td>\n",
       "      <td>423</td>\n",
       "      <td>423</td>\n",
       "      <td>423</td>\n",
       "      <td>423</td>\n",
       "      <td>423</td>\n",
       "      <td>423</td>\n",
       "      <td>423</td>\n",
       "      <td>423</td>\n",
       "      <td>423</td>\n",
       "      <td>418</td>\n",
       "    </tr>\n",
       "    <tr>\n",
       "      <th>BELA VISTA</th>\n",
       "      <td>1907</td>\n",
       "      <td>1907</td>\n",
       "      <td>1907</td>\n",
       "      <td>1907</td>\n",
       "      <td>1907</td>\n",
       "      <td>1907</td>\n",
       "      <td>1907</td>\n",
       "      <td>1907</td>\n",
       "      <td>1907</td>\n",
       "      <td>1907</td>\n",
       "      <td>1907</td>\n",
       "      <td>1907</td>\n",
       "      <td>1907</td>\n",
       "      <td>1907</td>\n",
       "      <td>1907</td>\n",
       "      <td>1834</td>\n",
       "    </tr>\n",
       "    <tr>\n",
       "      <th>...</th>\n",
       "      <td>...</td>\n",
       "      <td>...</td>\n",
       "      <td>...</td>\n",
       "      <td>...</td>\n",
       "      <td>...</td>\n",
       "      <td>...</td>\n",
       "      <td>...</td>\n",
       "      <td>...</td>\n",
       "      <td>...</td>\n",
       "      <td>...</td>\n",
       "      <td>...</td>\n",
       "      <td>...</td>\n",
       "      <td>...</td>\n",
       "      <td>...</td>\n",
       "      <td>...</td>\n",
       "      <td>...</td>\n",
       "    </tr>\n",
       "    <tr>\n",
       "      <th>SÃO CRISTÓVÃO</th>\n",
       "      <td>1836</td>\n",
       "      <td>1836</td>\n",
       "      <td>1836</td>\n",
       "      <td>1836</td>\n",
       "      <td>1836</td>\n",
       "      <td>1836</td>\n",
       "      <td>1836</td>\n",
       "      <td>1836</td>\n",
       "      <td>1836</td>\n",
       "      <td>1836</td>\n",
       "      <td>1836</td>\n",
       "      <td>1836</td>\n",
       "      <td>1836</td>\n",
       "      <td>1836</td>\n",
       "      <td>1836</td>\n",
       "      <td>1785</td>\n",
       "    </tr>\n",
       "    <tr>\n",
       "      <th>SÃO JOSÉ</th>\n",
       "      <td>1977</td>\n",
       "      <td>1977</td>\n",
       "      <td>1977</td>\n",
       "      <td>1977</td>\n",
       "      <td>1977</td>\n",
       "      <td>1977</td>\n",
       "      <td>1977</td>\n",
       "      <td>1977</td>\n",
       "      <td>1977</td>\n",
       "      <td>1977</td>\n",
       "      <td>1977</td>\n",
       "      <td>1977</td>\n",
       "      <td>1977</td>\n",
       "      <td>1977</td>\n",
       "      <td>1977</td>\n",
       "      <td>1868</td>\n",
       "    </tr>\n",
       "    <tr>\n",
       "      <th>SÃO PEDRO</th>\n",
       "      <td>2448</td>\n",
       "      <td>2448</td>\n",
       "      <td>2448</td>\n",
       "      <td>2448</td>\n",
       "      <td>2448</td>\n",
       "      <td>2448</td>\n",
       "      <td>2448</td>\n",
       "      <td>2448</td>\n",
       "      <td>2448</td>\n",
       "      <td>2448</td>\n",
       "      <td>2448</td>\n",
       "      <td>2448</td>\n",
       "      <td>2448</td>\n",
       "      <td>2448</td>\n",
       "      <td>2448</td>\n",
       "      <td>2346</td>\n",
       "    </tr>\n",
       "    <tr>\n",
       "      <th>TABUAZEIRO</th>\n",
       "      <td>3132</td>\n",
       "      <td>3132</td>\n",
       "      <td>3132</td>\n",
       "      <td>3132</td>\n",
       "      <td>3132</td>\n",
       "      <td>3132</td>\n",
       "      <td>3132</td>\n",
       "      <td>3132</td>\n",
       "      <td>3132</td>\n",
       "      <td>3132</td>\n",
       "      <td>3132</td>\n",
       "      <td>3132</td>\n",
       "      <td>3132</td>\n",
       "      <td>3132</td>\n",
       "      <td>3132</td>\n",
       "      <td>3019</td>\n",
       "    </tr>\n",
       "    <tr>\n",
       "      <th>VILA RUBIM</th>\n",
       "      <td>851</td>\n",
       "      <td>851</td>\n",
       "      <td>851</td>\n",
       "      <td>851</td>\n",
       "      <td>851</td>\n",
       "      <td>851</td>\n",
       "      <td>851</td>\n",
       "      <td>851</td>\n",
       "      <td>851</td>\n",
       "      <td>851</td>\n",
       "      <td>851</td>\n",
       "      <td>851</td>\n",
       "      <td>851</td>\n",
       "      <td>851</td>\n",
       "      <td>851</td>\n",
       "      <td>829</td>\n",
       "    </tr>\n",
       "  </tbody>\n",
       "</table>\n",
       "<p>69 rows × 16 columns</p>\n",
       "</div>"
      ],
      "text/plain": [
       "                     PatientId  AppointmentID  Gender  ScheduledDay  \\\n",
       "Neighbourhood                                                         \n",
       "ANDORINHAS                2262           2262    2262          2262   \n",
       "ANTÔNIO HONÓRIO            271            271     271           271   \n",
       "ARIOVALDO FAVALESSA        282            282     282           282   \n",
       "BARRO VERMELHO             423            423     423           423   \n",
       "BELA VISTA                1907           1907    1907          1907   \n",
       "...                        ...            ...     ...           ...   \n",
       "SÃO CRISTÓVÃO             1836           1836    1836          1836   \n",
       "SÃO JOSÉ                  1977           1977    1977          1977   \n",
       "SÃO PEDRO                 2448           2448    2448          2448   \n",
       "TABUAZEIRO                3132           3132    3132          3132   \n",
       "VILA RUBIM                 851            851     851           851   \n",
       "\n",
       "                     AppointmentDay   Age  Scholarship  Hipertension  \\\n",
       "Neighbourhood                                                          \n",
       "ANDORINHAS                     2262  2262         2262          2262   \n",
       "ANTÔNIO HONÓRIO                 271   271          271           271   \n",
       "ARIOVALDO FAVALESSA             282   282          282           282   \n",
       "BARRO VERMELHO                  423   423          423           423   \n",
       "BELA VISTA                     1907  1907         1907          1907   \n",
       "...                             ...   ...          ...           ...   \n",
       "SÃO CRISTÓVÃO                  1836  1836         1836          1836   \n",
       "SÃO JOSÉ                       1977  1977         1977          1977   \n",
       "SÃO PEDRO                      2448  2448         2448          2448   \n",
       "TABUAZEIRO                     3132  3132         3132          3132   \n",
       "VILA RUBIM                      851   851          851           851   \n",
       "\n",
       "                     Diabetes  Alcoholism  Handcap  SMS_received  No_show  \\\n",
       "Neighbourhood                                                               \n",
       "ANDORINHAS               2262        2262     2262          2262     2262   \n",
       "ANTÔNIO HONÓRIO           271         271      271           271      271   \n",
       "ARIOVALDO FAVALESSA       282         282      282           282      282   \n",
       "BARRO VERMELHO            423         423      423           423      423   \n",
       "BELA VISTA               1907        1907     1907          1907     1907   \n",
       "...                       ...         ...      ...           ...      ...   \n",
       "SÃO CRISTÓVÃO            1836        1836     1836          1836     1836   \n",
       "SÃO JOSÉ                 1977        1977     1977          1977     1977   \n",
       "SÃO PEDRO                2448        2448     2448          2448     2448   \n",
       "TABUAZEIRO               3132        3132     3132          3132     3132   \n",
       "VILA RUBIM                851         851      851           851      851   \n",
       "\n",
       "                     Appointment_dow  Appointment_hour  age_group  \n",
       "Neighbourhood                                                      \n",
       "ANDORINHAS                      2262              2262       2195  \n",
       "ANTÔNIO HONÓRIO                  271               271        257  \n",
       "ARIOVALDO FAVALESSA              282               282        268  \n",
       "BARRO VERMELHO                   423               423        418  \n",
       "BELA VISTA                      1907              1907       1834  \n",
       "...                              ...               ...        ...  \n",
       "SÃO CRISTÓVÃO                   1836              1836       1785  \n",
       "SÃO JOSÉ                        1977              1977       1868  \n",
       "SÃO PEDRO                       2448              2448       2346  \n",
       "TABUAZEIRO                      3132              3132       3019  \n",
       "VILA RUBIM                       851               851        829  \n",
       "\n",
       "[69 rows x 16 columns]"
      ]
     },
     "execution_count": 24,
     "metadata": {},
     "output_type": "execute_result"
    }
   ],
   "source": [
    "# Déterminons les localisations qui ont plus de 200 rendez-vous\n",
    "neighbourhood = df.groupby('Neighbourhood').count()\n",
    "nbhood_mst_freqt = neighbourhood.loc[neighbourhood['AppointmentID'] >= 200, :]\n",
    "nbhood_mst_freqt"
   ]
  },
  {
   "cell_type": "code",
   "execution_count": 25,
   "metadata": {
    "slideshow": {
     "slide_type": "slide"
    }
   },
   "outputs": [
    {
     "data": {
      "text/plain": [
       "Index(['ANDORINHAS', 'ANTÔNIO HONÓRIO', 'ARIOVALDO FAVALESSA',\n",
       "       'BARRO VERMELHO', 'BELA VISTA', 'BENTO FERREIRA', 'BOA VISTA', 'BONFIM',\n",
       "       'CARATOÍRA', 'CENTRO', 'COMDUSA', 'CONQUISTA', 'CONSOLAÇÃO',\n",
       "       'CRUZAMENTO', 'DA PENHA', 'DE LOURDES', 'DO CABRAL', 'DO MOSCOSO',\n",
       "       'DO QUADRO', 'ENSEADA DO SUÁ', 'ESTRELINHA', 'FONTE GRANDE',\n",
       "       'FORTE SÃO JOÃO', 'FRADINHOS', 'GOIABEIRAS', 'GRANDE VITÓRIA',\n",
       "       'GURIGICA', 'ILHA DAS CAIEIRAS', 'ILHA DE SANTA MARIA',\n",
       "       'ILHA DO PRÍNCIPE', 'INHANGUETÁ', 'ITARARÉ', 'JABOUR', 'JARDIM CAMBURI',\n",
       "       'JARDIM DA PENHA', 'JESUS DE NAZARETH', 'JOANA D´ARC', 'JUCUTUQUARA',\n",
       "       'MARIA ORTIZ', 'MARUÍPE', 'MATA DA PRAIA', 'MONTE BELO',\n",
       "       'MÁRIO CYPRESTE', 'NOVA PALESTINA', 'PARQUE MOSCOSO', 'PIEDADE',\n",
       "       'PRAIA DO CANTO', 'PRAIA DO SUÁ', 'REDENÇÃO', 'REPÚBLICA',\n",
       "       'RESISTÊNCIA', 'ROMÃO', 'SANTA CECÍLIA', 'SANTA CLARA', 'SANTA LUÍZA',\n",
       "       'SANTA LÚCIA', 'SANTA MARTHA', 'SANTA TEREZA', 'SANTO ANDRÉ',\n",
       "       'SANTO ANTÔNIO', 'SANTOS DUMONT', 'SANTOS REIS', 'SOLON BORGES',\n",
       "       'SÃO BENEDITO', 'SÃO CRISTÓVÃO', 'SÃO JOSÉ', 'SÃO PEDRO', 'TABUAZEIRO',\n",
       "       'VILA RUBIM'],\n",
       "      dtype='object', name='Neighbourhood')"
      ]
     },
     "execution_count": 25,
     "metadata": {},
     "output_type": "execute_result"
    }
   ],
   "source": [
    "# Stockons le nom de ces localisations\n",
    "nbhood_sup_200_names = nbhood_mst_freqt.index\n",
    "nbhood_sup_200_names"
   ]
  },
  {
   "cell_type": "markdown",
   "metadata": {
    "slideshow": {
     "slide_type": "slide"
    }
   },
   "source": [
    "Nous allons ensuite créer une série qui contient:\n",
    "<ul>\n",
    "    <li>En index: les localisations avec plus de 200 rendez-vous</li>\n",
    "    <li>En valeur: le nombre total de rendez-vous</li>\n",
    "</ul>\n",
    "Ceci nous permettra de determiner la <b>proportion</b> des rendez-vous manqués pour les localisations de plus de 200 rendez-vous."
   ]
  },
  {
   "cell_type": "code",
   "execution_count": 26,
   "metadata": {
    "scrolled": false,
    "slideshow": {
     "slide_type": "slide"
    }
   },
   "outputs": [
    {
     "data": {
      "text/plain": [
       "Neighbourhood\n",
       "ANDORINHAS             2262\n",
       "ANTÔNIO HONÓRIO         271\n",
       "ARIOVALDO FAVALESSA     282\n",
       "BARRO VERMELHO          423\n",
       "BELA VISTA             1907\n",
       "                       ... \n",
       "SÃO CRISTÓVÃO          1836\n",
       "SÃO JOSÉ               1977\n",
       "SÃO PEDRO              2448\n",
       "TABUAZEIRO             3132\n",
       "VILA RUBIM              851\n",
       "Name: AppointmentID, Length: 69, dtype: int64"
      ]
     },
     "execution_count": 26,
     "metadata": {},
     "output_type": "execute_result"
    }
   ],
   "source": [
    "# Creation de la série nbhood_sup_200\n",
    "nbhood_sup_200 = nbhood_mst_freqt['AppointmentID']\n",
    "nbhood_sup_200"
   ]
  },
  {
   "cell_type": "markdown",
   "metadata": {
    "slideshow": {
     "slide_type": "slide"
    }
   },
   "source": [
    "Pour ces localisations, nous allons déterminer le nombre de rendez-vous manqués. Ceci nous permettra de trouver la proportion de rendez-vous manqués, en divisant le nombre de rendez-vous manqués par le nombre total de rendez-vous pour chacune des localisations concernées."
   ]
  },
  {
   "cell_type": "code",
   "execution_count": 27,
   "metadata": {
    "scrolled": true,
    "slideshow": {
     "slide_type": "slide"
    }
   },
   "outputs": [
    {
     "name": "stdout",
     "output_type": "stream",
     "text": [
      "Nombre de rendez-vous manqués\n"
     ]
    },
    {
     "data": {
      "text/plain": [
       "Neighbourhood\n",
       "ANDORINHAS             521\n",
       "ANTÔNIO HONÓRIO         50\n",
       "ARIOVALDO FAVALESSA     62\n",
       "BARRO VERMELHO          91\n",
       "BELA VISTA             384\n",
       "                      ... \n",
       "SÃO CRISTÓVÃO          363\n",
       "SÃO JOSÉ               428\n",
       "SÃO PEDRO              515\n",
       "TABUAZEIRO             573\n",
       "VILA RUBIM             141\n",
       "Name: AppointmentID, Length: 69, dtype: int64"
      ]
     },
     "execution_count": 27,
     "metadata": {},
     "output_type": "execute_result"
    }
   ],
   "source": [
    "# Filtrons nos données en fonction de deux critères\n",
    "# Critère 1: Les rendez-vous manqués\n",
    "# Critère 2: Les locations ont plus de 200 rendez-vous\n",
    "nbhood_no_show = df.query('No_show == 1 & Neighbourhood in @nbhood_sup_200_names')\n",
    "# Déterminons le nombre de rendez-vous manqués pour chacune des localisations\n",
    "nbhood_no_show = nbhood_no_show.groupby('Neighbourhood').count()['AppointmentID']\n",
    "print(\"Nombre de rendez-vous manqués\")\n",
    "nbhood_no_show"
   ]
  },
  {
   "cell_type": "markdown",
   "metadata": {
    "slideshow": {
     "slide_type": "slide"
    }
   },
   "source": [
    "<b>Finalement, calculons la proportion de rendez-vous manqués pour ces localisations</b>"
   ]
  },
  {
   "cell_type": "code",
   "execution_count": 28,
   "metadata": {
    "scrolled": false,
    "slideshow": {
     "slide_type": "slide"
    }
   },
   "outputs": [
    {
     "name": "stdout",
     "output_type": "stream",
     "text": [
      "Proportion de rendez-vous manqués\n"
     ]
    },
    {
     "data": {
      "text/plain": [
       "Neighbourhood\n",
       "SANTOS DUMONT        0.289185\n",
       "SANTA CECÍLIA        0.274554\n",
       "SANTA CLARA          0.264822\n",
       "ITARARÉ              0.262664\n",
       "JESUS DE NAZARETH    0.243954\n",
       "                       ...   \n",
       "SANTA MARTHA         0.158416\n",
       "DO CABRAL            0.157143\n",
       "DE LOURDES           0.154098\n",
       "SOLON BORGES         0.147122\n",
       "MÁRIO CYPRESTE       0.145553\n",
       "Name: AppointmentID, Length: 69, dtype: float64"
      ]
     },
     "execution_count": 28,
     "metadata": {},
     "output_type": "execute_result"
    }
   ],
   "source": [
    "prop_rdv_manq_loc = (nbhood_no_show / nbhood_sup_200).sort_values(ascending=False)\n",
    "print(\"Proportion de rendez-vous manqués\")\n",
    "prop_rdv_manq_loc"
   ]
  },
  {
   "cell_type": "markdown",
   "metadata": {
    "slideshow": {
     "slide_type": "slide"
    }
   },
   "source": [
    "<b>SANTOS DUMONT</b> apparait comme étant la localisation avec le plus grand pourcentage de rendez-vous manqué (28,9%). Visualisons les 5 localisations où ce pourcentage est le plus élevé."
   ]
  },
  {
   "cell_type": "code",
   "execution_count": 29,
   "metadata": {
    "slideshow": {
     "slide_type": "slide"
    }
   },
   "outputs": [
    {
     "data": {
      "image/png": "[encoded data removed]",
      "text/plain": [
       "<Figure size 576x288 with 1 Axes>"
      ]
     },
     "metadata": {
      "needs_background": "light"
     },
     "output_type": "display_data"
    }
   ],
   "source": [
    "plt.figure(figsize=(8, 4))\n",
    "prop_rdv_manq_loc.sort_values(ascending=False).head(5).sort_values().plot(kind='barh')\n",
    "plt.xlabel(\"Proportion\")\n",
    "plt.title(\"Proportion de rendez-vous manqués par localisation\", fontsize=15);"
   ]
  },
  {
   "cell_type": "markdown",
   "metadata": {
    "slideshow": {
     "slide_type": "slide"
    }
   },
   "source": [
    "Les 5 localisations avec le plus grand pourcentage de rendez-vous manqués sont:\n",
    "<ol>\n",
    "    <li><b>SANTOS DUMONT: </b>28.9%</li>\n",
    "    <li><b>SANTA CECÍLIA : </b>27.5%</li>\n",
    "    <li><b>SANTA CLARA: </b>26.5%</li>\n",
    "    <li><b>ITARARÉ: </b>26.3%</li>\n",
    "    <li><b>JESUS DE NAZARETH: </b>24.4%</li>\n",
    "</ol>\n",
    "<hr>"
   ]
  },
  {
   "cell_type": "markdown",
   "metadata": {
    "slideshow": {
     "slide_type": "slide"
    }
   },
   "source": [
    "### Question 4 : Y a-t-il des jours de la semaine où les rendez-vous sont le plus manqués ?\n",
    "<hr>\n",
    "\n",
    "> Voici comment nous procèderons. Nous allons d'abord utiliser le jour de la semaine pour grouper nos données. Nous calculerons le nombre total de rendez-vous pour chaque jour de la semaine. Ensuite, nous calculerons le nombre total de rendez-vous manqués pour chacun de ces jours. Nous serons ainsi en mesure de déterminer la proportion de rendez-vous manqués pour chaque jour de la semaine.<br />\n",
    "Pour éviter la repetition, nous allons créer la fonction <i>calc_prop</i> qui génèrera ces proportions pour nous."
   ]
  },
  {
   "cell_type": "code",
   "execution_count": 30,
   "metadata": {
    "slideshow": {
     "slide_type": "slide"
    }
   },
   "outputs": [],
   "source": [
    "def calc_prop_miss(col):\n",
    "    # Fonction permettant de déterminer la proportion de rendez-vous manqués d'une colonne de données\n",
    "    \n",
    "    # On détermine le nombre total de rendez-vous pour un groupe donné\n",
    "    total_grp = df.groupby(col).count()['AppointmentID']\n",
    "    # On détermine le nombre de rendez-vous manqués pour ce meme groupe\n",
    "    miss_grp = df.query('No_show == 1').groupby(col).count()['AppointmentID']\n",
    "    # On génère la proportion de rendez-vous manqués\n",
    "    return miss_grp / total_grp"
   ]
  },
  {
   "cell_type": "markdown",
   "metadata": {
    "slideshow": {
     "slide_type": "slide"
    }
   },
   "source": [
    "<b>Caculons la proportion de rendez-vous manqués pour chaque jour de la semaine (jours inclus dans la base de données)</b>"
   ]
  },
  {
   "cell_type": "code",
   "execution_count": 31,
   "metadata": {
    "scrolled": true,
    "slideshow": {
     "slide_type": "slide"
    }
   },
   "outputs": [
    {
     "name": "stdout",
     "output_type": "stream",
     "text": [
      "Proportion de rendez-vous manqués\n"
     ]
    },
    {
     "data": {
      "text/plain": [
       "Appointment_dow\n",
       "Saturday     0.230769\n",
       "Friday       0.212261\n",
       "Monday       0.206471\n",
       "Tuesday      0.200936\n",
       "Wednesday    0.196892\n",
       "Thursday     0.193541\n",
       "Name: AppointmentID, dtype: float64"
      ]
     },
     "execution_count": 31,
     "metadata": {},
     "output_type": "execute_result"
    }
   ],
   "source": [
    "print(\"Proportion de rendez-vous manqués\")\n",
    "dow_no_show_prop = calc_prop_miss('Appointment_dow')\n",
    "dow_noshow_prop_sorted = dow_no_show_prop.sort_values(ascending=False)\n",
    "dow_noshow_prop_sorted"
   ]
  },
  {
   "cell_type": "markdown",
   "metadata": {
    "slideshow": {
     "slide_type": "slide"
    }
   },
   "source": [
    "Utilisons un graphique poiur mieux visualiser le tableau ci-dessus."
   ]
  },
  {
   "cell_type": "code",
   "execution_count": 32,
   "metadata": {
    "slideshow": {
     "slide_type": "slide"
    }
   },
   "outputs": [
    {
     "data": {
      "image/png": "[encoded data removed]",
      "text/plain": [
       "<Figure size 576x360 with 1 Axes>"
      ]
     },
     "metadata": {
      "needs_background": "light"
     },
     "output_type": "display_data"
    }
   ],
   "source": [
    "plt.figure(figsize=(8, 5))\n",
    "dow_noshow_prop_sorted.plot(kind=\"bar\")\n",
    "plt.ylabel(\"Proportions\", fontsize = 13)\n",
    "plt.title(\"Proportion de rendez-vous manqués pour chaque jour de la semaine\", fontsize = 15);"
   ]
  },
  {
   "cell_type": "markdown",
   "metadata": {
    "slideshow": {
     "slide_type": "slide"
    }
   },
   "source": [
    "La journée du <b>samedi</b> est celle avec le plus grand pourcentage de rendez-vous manqués (23%). Mais les autres jours ont des pourcentages qui ne sont pas vraiment éloignés. Comme par exemple vendredi(21%) et lundi(20%).\n",
    "<hr/>"
   ]
  },
  {
   "cell_type": "markdown",
   "metadata": {
    "slideshow": {
     "slide_type": "slide"
    }
   },
   "source": [
    "### Question 5 : Qu’en est-il des heures de rendez-vous ?\n",
    "\n",
    "Nous allons reproduire l'opération précédente, en nous concentrant cette fois-ci sur les heures de rendez-vous."
   ]
  },
  {
   "cell_type": "code",
   "execution_count": 33,
   "metadata": {
    "scrolled": true,
    "slideshow": {
     "slide_type": "slide"
    }
   },
   "outputs": [
    {
     "name": "stdout",
     "output_type": "stream",
     "text": [
      "Proportion de rendez-vous manqués\n"
     ]
    },
    {
     "data": {
      "text/plain": [
       "Appointment_hour\n",
       "21    0.333333\n",
       "20    0.300000\n",
       "17    0.248195\n",
       "16    0.237640\n",
       "19    0.233607\n",
       "15    0.231836\n",
       "11    0.227842\n",
       "14    0.226800\n",
       "10    0.220695\n",
       "18    0.212687\n",
       "13    0.209274\n",
       "12    0.203615\n",
       "9     0.196990\n",
       "6     0.192015\n",
       "8     0.182683\n",
       "7     0.151512\n",
       "Name: AppointmentID, dtype: float64"
      ]
     },
     "execution_count": 33,
     "metadata": {},
     "output_type": "execute_result"
    }
   ],
   "source": [
    "# Calculons la proportion de rendez-vous manqués pour chaque heure de rendez-vous\n",
    "hr_noshow_prop = calc_prop_miss('Appointment_hour')\n",
    "hr_noshow_prop_sorted =hr_noshow_prop.sort_values(ascending=False)\n",
    "print(\"Proportion de rendez-vous manqués\")\n",
    "hr_noshow_prop_sorted"
   ]
  },
  {
   "cell_type": "markdown",
   "metadata": {
    "slideshow": {
     "slide_type": "slide"
    }
   },
   "source": [
    "Visualisons cela via un graphique."
   ]
  },
  {
   "cell_type": "code",
   "execution_count": 34,
   "metadata": {
    "slideshow": {
     "slide_type": "slide"
    }
   },
   "outputs": [
    {
     "data": {
      "image/png": "[encoded data removed]",
      "text/plain": [
       "<Figure size 720x504 with 1 Axes>"
      ]
     },
     "metadata": {
      "needs_background": "light"
     },
     "output_type": "display_data"
    }
   ],
   "source": [
    "plt.figure(figsize=(10, 7))\n",
    "hr_noshow_prop.plot(kind=\"line\")\n",
    "plt.ylabel(\"Proportions\", fontsize = 13)\n",
    "plt.title(\"Proportion de rendez-vous manqués pour chaque heure de rendez-vous\", fontsize = 15);"
   ]
  },
  {
   "cell_type": "markdown",
   "metadata": {
    "slideshow": {
     "slide_type": "slide"
    }
   },
   "source": [
    "<ul>\n",
    "    <li>On observe un pic en terme de pourcentage de rendez-vous manqués pour <b>20h et 21h</b> (30 et 33% respectivement)</li>\n",
    "    <li>Les plus faibles pourcentages de rendez-vous manqués concernent les heures très matinales <b>(entre 6h et 9h)</b></li>\n",
    "</ul>"
   ]
  },
  {
   "cell_type": "markdown",
   "metadata": {
    "slideshow": {
     "slide_type": "slide"
    }
   },
   "source": [
    "### Question 6 : Les patients qui ont reçu des messages viennent t-ils plus à leur rendez-vous?\n",
    "\n",
    "Regroupons les patients en deux groupes:\n",
    "- Groupe 1: Ceux qui ont reçu un ou plusieurs messages\n",
    "- Groupe 2: Ce qui n'ont pas reçu de messages"
   ]
  },
  {
   "cell_type": "code",
   "execution_count": 35,
   "metadata": {
    "scrolled": true,
    "slideshow": {
     "slide_type": "slide"
    }
   },
   "outputs": [
    {
     "data": {
      "text/html": [
       "<div>\n",
       "<style scoped>\n",
       "    .dataframe tbody tr th:only-of-type {\n",
       "        vertical-align: middle;\n",
       "    }\n",
       "\n",
       "    .dataframe tbody tr th {\n",
       "        vertical-align: top;\n",
       "    }\n",
       "\n",
       "    .dataframe thead th {\n",
       "        text-align: right;\n",
       "    }\n",
       "</style>\n",
       "<table border=\"1\" class=\"dataframe\">\n",
       "  <thead>\n",
       "    <tr style=\"text-align: right;\">\n",
       "      <th></th>\n",
       "      <th>Age</th>\n",
       "      <th>Scholarship</th>\n",
       "      <th>Hipertension</th>\n",
       "      <th>Diabetes</th>\n",
       "      <th>Alcoholism</th>\n",
       "      <th>Handcap</th>\n",
       "      <th>No_show</th>\n",
       "      <th>Appointment_hour</th>\n",
       "    </tr>\n",
       "    <tr>\n",
       "      <th>SMS_received</th>\n",
       "      <th></th>\n",
       "      <th></th>\n",
       "      <th></th>\n",
       "      <th></th>\n",
       "      <th></th>\n",
       "      <th></th>\n",
       "      <th></th>\n",
       "      <th></th>\n",
       "    </tr>\n",
       "  </thead>\n",
       "  <tbody>\n",
       "    <tr>\n",
       "      <th>0</th>\n",
       "      <td>36.887961</td>\n",
       "      <td>0.098021</td>\n",
       "      <td>0.198961</td>\n",
       "      <td>0.074449</td>\n",
       "      <td>0.033487</td>\n",
       "      <td>0.024932</td>\n",
       "      <td>0.167033</td>\n",
       "      <td>10.641135</td>\n",
       "    </tr>\n",
       "    <tr>\n",
       "      <th>1</th>\n",
       "      <td>37.513810</td>\n",
       "      <td>0.098782</td>\n",
       "      <td>0.193619</td>\n",
       "      <td>0.066400</td>\n",
       "      <td>0.023871</td>\n",
       "      <td>0.016572</td>\n",
       "      <td>0.275745</td>\n",
       "      <td>11.056620</td>\n",
       "    </tr>\n",
       "  </tbody>\n",
       "</table>\n",
       "</div>"
      ],
      "text/plain": [
       "                    Age  Scholarship  Hipertension  Diabetes  Alcoholism  \\\n",
       "SMS_received                                                               \n",
       "0             36.887961     0.098021      0.198961  0.074449    0.033487   \n",
       "1             37.513810     0.098782      0.193619  0.066400    0.023871   \n",
       "\n",
       "               Handcap   No_show  Appointment_hour  \n",
       "SMS_received                                        \n",
       "0             0.024932  0.167033         10.641135  \n",
       "1             0.016572  0.275745         11.056620  "
      ]
     },
     "execution_count": 35,
     "metadata": {},
     "output_type": "execute_result"
    }
   ],
   "source": [
    "# Apres regroupement, observons comment varient les proportions de chaque attribut\n",
    "df.groupby('SMS_received').mean()"
   ]
  },
  {
   "cell_type": "markdown",
   "metadata": {
    "slideshow": {
     "slide_type": "slide"
    }
   },
   "source": [
    "<h3> Patients avec messages </h3>\n",
    "<hr/>\n",
    "- <b>28%</b> des patients <b>qui ont reçu des messages</b> <b>ne sont pas venus</b> au rendez-vous. En d'autres termes, <b>72%</b> des patients <b>qui ont reçu des messages</b><b> sont venus</b> au rendez-vous.<br/>\n",
    "Un grand pourcentage de patients qui ont reçu des messages sont venus au rendez-vous. Pour avoir une meilleure idée de l'impact des messages, posons nous maitenant cette question:\n",
    "\n",
    "Quel pourcentage des personnes n'ayant pas reçu de messages sont venus au rendez-vous?\n",
    "\n",
    "<h3> Patients sans messages </h3>\n",
    "<hr/>\n",
    "D'après le tableau précedent:<br/>\n",
    "- <b>17%</b> des patients qui n'ont pas reçu de messages<b> ne sont pas venus</b> au rendez-vous. En d'autres termes, <b>83%</b> des patients qui n'ont pas reçu de messages <b>sont venus</b> au rendez-vous.\n",
    "\n",
    "\n",
    "Ainsi:\n",
    "- <b>72%</b> des patients qui ont reçu des messages<b> sont venus</b> au rendez-vous.\n",
    "- <b>83%</b> des patients qui n'ont pas reçu de messages <b>sont venus</b> au rendez-vous.\n",
    "\n",
    "Il <b>se pourrait</b> que les messages aient un impact sur le fait de se présenter ou pas au rendez-vous. En effet, ceux qui viennent au rendez-vous <b>sans messages</b> représentent un plus grand pourcentage que ce qui viennent au rendez-vous <b>avec</b> messages (83% contre 72%). Il s'agit d'une observation, qui nécessitera des investigations futures."
   ]
  },
  {
   "cell_type": "markdown",
   "metadata": {
    "slideshow": {
     "slide_type": "slide"
    }
   },
   "source": [
    "<a id='conclusions'></a>\n",
    "## IV - Conclusions\n",
    "\n",
    "Après l'exploration et la visualisation des données précédentes, les observations suivantes ont été faites.\n",
    "\n",
    "<b>Par rapport à l'âge  des patients:</b><br/>\n",
    "\n",
    "Les groupes de patients de 10-20 ans et 20-30 ans sont ceux avec les plus grandes proportions de rendez-vous manqués avec:\n",
    "<ul>\n",
    "    <li><b>10-20 ans</b>: 25.3% de rendez-vous manqués</li>\n",
    "    <li><b>20-30 ans</b>: 24.6% de rendez-vous manqués</li>\n",
    "</ul>\n",
    "\n",
    "<b>En ce qui concerne les localisations des hopitaux:</b><br/>\n",
    "\n",
    "Les 5 localisations avec le plus grand pourcentage de rendez-vous manqués sont:\n",
    "<ol>\n",
    "    <li><b>SANTOS DUMONT: </b>28.9% de rdv manqués</li>\n",
    "    <li><b>SANTA CECÍLIA : </b>27.5%</li>\n",
    "    <li><b>SANTA CLARA: </b>26.5%</li>\n",
    "    <li><b>ITARARÉ: </b>26.3%</li>\n",
    "    <li><b>JESUS DE NAZARETH: </b>24.4%</li>\n",
    "</ol>\n",
    "<b>Par rapport aux jours de la semaine:</b><br/>\n",
    "\n",
    "La journée du <b>samedi</b> est celle avec le plus grand pourcentage de rendez-vous manqués (23%). Mais les autres jours ont des pourcentages qui ne sont pas vraiment éloignés. Comme par exemple vendredi (21%) et lundi (20%).\n",
    "\n",
    "<b>Par rapport aux heures de la semaine:</b><br/>\n",
    "\n",
    "<ul>\n",
    "    <li>On observe un pic en terme de pourcentage de rendez-vous manqués pour ceux de <b>20h et 21h</b> (30 et 33% respectivement)</li>\n",
    "    <li>Les plus faibles pourcentages de rendez-vous manqués concernent les heures très matinales <b>(entre 6h et 9h)</b></li>\n",
    "</ul>\n",
    "\n",
    "<b>Concernant les messages reçus par les patients:</b><br/>\n",
    "\n",
    "Il <b>se pourrait</b> que les messages aient un impact sur le fait de se présenter ou pas au rendez-vous. En effet, ceux qui viennent au rendez-vous <b>sans messages</b> représentent un plus grand pourcentage que ce qui viennent au rendez-vous <b>avec</b> messages (83% contre 72%). Il s'agit d'une observation, qui nécessitera des investigations futures.\n",
    "\n",
    "Pour tirer des conclusions, il sera question d'effectuer des tests statistiques. Ceci fera certainement l'objet d'un prochain rapport."
   ]
  },
  {
   "cell_type": "markdown",
   "metadata": {
    "slideshow": {
     "slide_type": "slide"
    }
   },
   "source": [
    "<h3></h3>\n",
    "<hr/>\n",
    "Ressources utilisées:<br/>\n",
    "<ul>\n",
    "    <li><a href=\"http://seaborn.pydata.org/tutorial/aesthetics.html\">seaborn pydata</a></li>\n",
    "    <li><a href=\"https://pythonguides.com/matplotlib-bar-chart-labels/\">matplotlib bar chart</a></li>\n",
    "    <li><a href=\"https://en.wikipedia.org/wiki/List_of_Unicode_characters\">unicode characters</a></li>\n",
    "    <li><a href=\"https://stackoverflow.com/questions/41598916/resize-the-image-in-jupyter-notebook-using-markdown\">resize images in jupyter notebooks</a></li>\n",
    "    <li><a href=\"https://stackoverflow.com/questions/22005911/convert-columns-to-string-in-pandas\">convert columns to strings</a></li>\n",
    "</ul>"
   ]
  }
 ],
 "metadata": {
  "celltoolbar": "Diaporama",
  "kernelspec": {
   "display_name": "Python 3 (ipykernel)",
   "language": "python",
   "name": "python3"
  },
  "language_info": {
   "codemirror_mode": {
    "name": "ipython",
    "version": 3
   },
   "file_extension": ".py",
   "mimetype": "text/x-python",
   "name": "python",
   "nbconvert_exporter": "python",
   "pygments_lexer": "ipython3",
   "version": "3.9.12"
  }
 },
 "nbformat": 4,
 "nbformat_minor": 2
}
